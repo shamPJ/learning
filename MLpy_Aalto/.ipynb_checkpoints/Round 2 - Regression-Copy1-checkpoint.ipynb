{
 "cells": [
  {
   "cell_type": "markdown",
   "metadata": {
    "deletable": false,
    "editable": false,
    "nbgrader": {
     "cell_type": "markdown",
     "checksum": "7f33afa16fd470bd090c68736707a0d5",
     "grade": false,
     "grade_id": "cell-0ef3a793cfc0e37b",
     "locked": true,
     "schema_version": 3,
     "solution": false
    }
   },
   "source": [
    "## Round 2 - Regression\n",
    "\n",
    "\n",
    "<img src=\"../../../coursedata/R2_Regression/SomePhoto.jpg\" alt=\"Drawing\" style=\"width: 300px\"/>\n",
    "\n",
    "In this round, we consider ML problems involving data points with real-valued labels $y$, which represent some quantity of interest. We often refer to such ML problems as **regression problems**. In this round, we will apply some basic ML methods to solve a simple regression problem. These methods aim at finding or learning a useful predictor function $h(\\mathbf{x})$. Such a function allows to predict the label $y$ of a data point based on the features $\\mathbf{x}$. A wide range of machine learning methods is obtained by combining different choices for the type of predictor functions (hypothesis space) and loss function (the quality measure used to rank predictors). These different combinations offer different tradeoffs between **computational complexity, robustness (against perturbation of data), and accuracy**.  "
   ]
  },
  {
   "cell_type": "markdown",
   "metadata": {
    "deletable": false,
    "editable": false,
    "nbgrader": {
     "cell_type": "markdown",
     "checksum": "1db1c5dcc1156ca6f467fe0410331451",
     "grade": false,
     "grade_id": "cell-4872a33f422acba9",
     "locked": true,
     "schema_version": 3,
     "solution": false,
     "task": false
    }
   },
   "source": [
    "## Learning Goals\n",
    "\n",
    "After completing this round, you should\n",
    "\n",
    "- know how to formulate \"real-world\" applications as a regression problem by identifying data points, their features, and labels  \n",
    "- know how to represent features and labels of data points using matrices and vectors (as numpy arrays)\n",
    "- be able to apply ready-made regression methods to learn a useful predictor function from labeled data "
   ]
  },
  {
   "cell_type": "markdown",
   "metadata": {
    "deletable": false,
    "editable": false,
    "nbgrader": {
     "cell_type": "markdown",
     "checksum": "5b50bfa22482dcb5f898c9c542a72682",
     "grade": false,
     "grade_id": "cell-200ca65238fcf8cb",
     "locked": true,
     "schema_version": 3,
     "solution": false,
     "task": false
    }
   },
   "source": [
    "## Background Material \n",
    "\n",
    "* [Video Lecture](https://www.youtube.com/watch?v=kHwlB_j7Hkc) on regression by [Prof. Andrew Ng](https://en.wikipedia.org/wiki/Andrew_Ng) \n",
    "\n",
    "* How to represent images via numpy arrays (matrices) explained here https://www.youtube.com/watch?v=xECXZ3tyONo\n",
    "\n",
    "* Additional information on the Python libraries used in this exercise can be found here:\n",
    "\n",
    " - [NumPy](http://cs231n.github.io/python-numpy-tutorial/)\n",
    " - [matplotlib](https://matplotlib.org/tutorials/index.html#introductory) \n",
    " - [Images and Numpy Arrays](https://matplotlib.org/tutorials/introductory/images.html)\n",
    " - [Pandas](https://pandas.pydata.org/pandas-docs/stable/getting_started/10min.html#min)\n",
    " - [Slicing numpy arrays](https://www.pythoninformer.com/python-libraries/numpy/index-and-slice/)"
   ]
  },
  {
   "cell_type": "markdown",
   "metadata": {
    "deletable": false,
    "editable": false,
    "nbgrader": {
     "cell_type": "markdown",
     "checksum": "b385f45e236e7a4ddea84abcfcf299d3",
     "grade": false,
     "grade_id": "cell-d64aa667351e92ee",
     "locked": true,
     "schema_version": 3,
     "solution": false,
     "task": false
    }
   },
   "source": [
    "## The Problem \n",
    "\n",
    "Assume you have secured an internship at the city planning department of Helsinki. Your job is to analyze aerial photographs of the city area. Unfortunately, some of the aerial photographs have been damaged. The damaged images have a fraction of their pixels replaced by completely black pixels. To improve the image quality you can use machine learning! \n",
    "\n",
    "Let us model the problem of recovering the original image as a machine learning problem. The data points in this problem are individual pixels of an image. Each data point (pixel) is characterized by certain features. The quantity of interest (the label) of a pixel is the correct grayscale value. For uncorrupted pixels we know the label which is given by the grayscale value ($0...255$) of that pixel. \n",
    "\n",
    "For the corrupted pixels we do not know the true label (grayscale value). Therefore, we have learn a predictor which reads in the features of a corrupted pixel and predicts (guesses) the label (grayscale) value of that pixel. To learn a reasonable predictor, we can try to compare its predictions for the uncorrupted pixels for which we know the correct label (grayscale value). "
   ]
  },
  {
   "cell_type": "markdown",
   "metadata": {
    "deletable": false,
    "editable": false,
    "nbgrader": {
     "cell_type": "markdown",
     "checksum": "fb36ceee586802a353761625ca055ab3",
     "grade": false,
     "grade_id": "cell-422ba0b968b596ba",
     "locked": true,
     "schema_version": 3,
     "solution": false,
     "task": false
    }
   },
   "source": [
    "<a id='handsondata'></a>\n",
    "<div class=\" alert alert-info\">\n",
    "<p><b>Demo.</b> Loading the Corrupted Image.</p>\n",
    "    \n",
    "<p>The code snippet below reads in the corrupted aerial photograph and stores the grayscale values of the pixels in the numpy array `Photo`. The corrupted pixels are completely black (grayscale value is zero). We consider the pixel with coordinates (m,n) as corrupted if the grayscale value `Photo[m,n]` is smaller than 1. </p>\n",
    "\n",
    "</div>"
   ]
  },
  {
   "cell_type": "code",
   "execution_count": 1,
   "metadata": {
    "deletable": false,
    "editable": false,
    "nbgrader": {
     "cell_type": "code",
     "checksum": "caa03f6a5df9d3a1945d66f37acef2cc",
     "grade": false,
     "grade_id": "cell-7e1c085abc9c0bb8",
     "locked": true,
     "schema_version": 3,
     "solution": false,
     "task": false
    }
   },
   "outputs": [
    {
     "ename": "error",
     "evalue": "OpenCV(4.1.0) ../modules/imgproc/src/resize.cpp:3718: error: (-215:Assertion failed) !ssize.empty() in function 'resize'\n",
     "output_type": "error",
     "traceback": [
      "\u001b[0;31m---------------------------------------------------------------------------\u001b[0m",
      "\u001b[0;31merror\u001b[0m                                     Traceback (most recent call last)",
      "\u001b[0;32m<ipython-input-1-3b05068b83e6>\u001b[0m in \u001b[0;36m<module>\u001b[0;34m\u001b[0m\n\u001b[1;32m     16\u001b[0m \u001b[0mPhoto\u001b[0m \u001b[0;34m=\u001b[0m \u001b[0mcv2\u001b[0m\u001b[0;34m.\u001b[0m\u001b[0mimread\u001b[0m\u001b[0;34m(\u001b[0m\u001b[0mcorrupted\u001b[0m\u001b[0;34m,\u001b[0m\u001b[0;36m0\u001b[0m\u001b[0;34m)\u001b[0m\u001b[0;34m\u001b[0m\u001b[0;34m\u001b[0m\u001b[0m\n\u001b[1;32m     17\u001b[0m \u001b[0;31m# make sure that photograph is represented by 100 by 100 pixels\u001b[0m\u001b[0;34m\u001b[0m\u001b[0;34m\u001b[0m\u001b[0;34m\u001b[0m\u001b[0m\n\u001b[0;32m---> 18\u001b[0;31m \u001b[0mPhoto\u001b[0m \u001b[0;34m=\u001b[0m \u001b[0mcv2\u001b[0m\u001b[0;34m.\u001b[0m\u001b[0mresize\u001b[0m\u001b[0;34m(\u001b[0m\u001b[0mPhoto\u001b[0m\u001b[0;34m,\u001b[0m \u001b[0;34m(\u001b[0m\u001b[0;36m100\u001b[0m\u001b[0;34m,\u001b[0m \u001b[0;36m100\u001b[0m\u001b[0;34m)\u001b[0m\u001b[0;34m)\u001b[0m\u001b[0;34m\u001b[0m\u001b[0;34m\u001b[0m\u001b[0m\n\u001b[0m\u001b[1;32m     19\u001b[0m \u001b[0;31m# create a figure with two plots side by side\u001b[0m\u001b[0;34m\u001b[0m\u001b[0;34m\u001b[0m\u001b[0;34m\u001b[0m\u001b[0m\n\u001b[1;32m     20\u001b[0m \u001b[0mfig\u001b[0m\u001b[0;34m,\u001b[0m \u001b[0max\u001b[0m \u001b[0;34m=\u001b[0m \u001b[0mplt\u001b[0m\u001b[0;34m.\u001b[0m\u001b[0msubplots\u001b[0m\u001b[0;34m(\u001b[0m\u001b[0;36m1\u001b[0m\u001b[0;34m,\u001b[0m\u001b[0;36m2\u001b[0m\u001b[0;34m,\u001b[0m\u001b[0mfigsize\u001b[0m\u001b[0;34m=\u001b[0m\u001b[0;34m(\u001b[0m\u001b[0;36m20\u001b[0m\u001b[0;34m,\u001b[0m \u001b[0;36m10\u001b[0m\u001b[0;34m)\u001b[0m\u001b[0;34m)\u001b[0m \u001b[0;31m# read more about how subplots work at: https://matplotlib.org/api/_as_gen/matplotlib.pyplot.subplots.html\u001b[0m\u001b[0;34m\u001b[0m\u001b[0;34m\u001b[0m\u001b[0m\n",
      "\u001b[0;31merror\u001b[0m: OpenCV(4.1.0) ../modules/imgproc/src/resize.cpp:3718: error: (-215:Assertion failed) !ssize.empty() in function 'resize'\n"
     ]
    }
   ],
   "source": [
    "# the library \"cv2\" provides methods for loading image files into numpy arrays \n",
    "import cv2\n",
    "# the library \"pyplot\" provides functions for plotting data \n",
    "import matplotlib.pyplot as plt      # import library matplotlib.pyplot as plt\n",
    "# the library \"numpy\" provides functions for matrices and vectors \n",
    "import numpy as np \n",
    "# the library \"sklearn.linear_model\" provides functions for fitting linear predictors to data points \n",
    "from sklearn.linear_model import LinearRegression\n",
    "# the library \"sklearn.metrics\" provides functions for evaluating different loss functions \n",
    "from sklearn.metrics import mean_squared_error\n",
    "\n",
    "# filename of image file containing corrupted pixels \n",
    "corrupted = '/coursedata/R2_Regression/SomePhotoCorrupted.bmp'\n",
    "\n",
    "# read in the corrupted aerial photograph as grayscale (second argument 0) and store it in variable img\n",
    "Photo = cv2.imread(corrupted,0)\n",
    "# make sure that photograph is represented by 100 by 100 pixels \n",
    "Photo = cv2.resize(Photo, (100, 100))\n",
    "# create a figure with two plots side by side\n",
    "fig, ax = plt.subplots(1,2,figsize=(20, 10)) # read more about how subplots work at: https://matplotlib.org/api/_as_gen/matplotlib.pyplot.subplots.html\n",
    "# plot photograph \n",
    "ax[0].imshow(Photo, cmap='gray')\n",
    "\n",
    "# find indices of numpy array corresponding to corrupted (black) pixels\n",
    "error_idx = np.where(Photo<1)  # determine corrupted pixels (those whose grayscale = 0)\n",
    "rows_err = error_idx[0]\n",
    "cols_err = error_idx[1]\n",
    "ax[1].imshow(Photo,cmap='gray')\n",
    "# mark corrupted pixels with a blue dot \n",
    "ax[1].scatter(cols_err,rows_err)\n",
    "plt.show()"
   ]
  },
  {
   "cell_type": "markdown",
   "metadata": {
    "deletable": false,
    "editable": false,
    "nbgrader": {
     "cell_type": "markdown",
     "checksum": "67ef22d4544f6e3057d76f635e7e5980",
     "grade": false,
     "grade_id": "cell-7cedcde8decf3648",
     "locked": true,
     "schema_version": 3,
     "solution": false,
     "task": false
    }
   },
   "source": [
    "<a id='handsondata'></a>\n",
    "<div class=\" alert alert-info\">\n",
    "<p><b>Demo.</b> Display Recovered Pixels.</p>\n",
    "<p>    \n",
    "The code snippet below reads in a weight vector $\\mathbf{w} \\in \\mathbb{R}^{n}$ that defines a linear predictor $h(\\mathbf{x}) = \\mathbf{w}^{T} \\mathbf{x}$ for the grayscale value $y$ of a pixel. The prediction is based on the features $\\mathbf{x} = \\big(x_{1},\\ldots,x_{n}\\big)^{T}$ that characterize a pixel. The grayscale value of each corrupted pixel (which has grayscale value 0) is replaced by the prediction $\\hat{y} = h(\\mathbf{x}) = \\mathbf{w}^{T} \\mathbf{x}$. The resulting (recovered) image is then depicted. \n",
    "</p>\n",
    "</div>"
   ]
  },
  {
   "cell_type": "code",
   "execution_count": null,
   "metadata": {
    "deletable": false,
    "editable": false,
    "nbgrader": {
     "cell_type": "code",
     "checksum": "75b5ab6adb008334114c3adac84904b3",
     "grade": false,
     "grade_id": "cell-496ca9814ca17649",
     "locked": true,
     "schema_version": 3,
     "solution": false,
     "task": false
    }
   },
   "outputs": [],
   "source": [
    "def DisplayRecoveredPixels(w):\n",
    "    wp=2\n",
    "    hp=2\n",
    "\n",
    "    corrupted = '/coursedata/R2_Regression/SomePhotoCorrupted.bmp'\n",
    "\n",
    "    # read in the corrupted aerial photograph as grayscale (second argument 0) and store it in variable img\n",
    "    Photo = cv2.imread(corrupted,0)\n",
    "    \n",
    "    # make sure that photograph is represented by 100 by 100 pixels \n",
    "    Photo = cv2.resize(Photo, (100, 100))\n",
    "    \n",
    "    imgwidth = Photo.shape[0]\n",
    "    imgheight = Photo.shape[1]\n",
    "    \n",
    "    # cv2.imread() returns an array of grayscale values 0...255 stored as integers \n",
    "    # it will be convenient to convert the integers to floating point numbers \n",
    "    # this allows us to work with grayscale values as real numbers \n",
    "    \n",
    "    Photo = Photo.astype(float)\n",
    "    \n",
    "    w1 = w[0]\n",
    "    \n",
    "    # determine corrupted pixels (those whose grayscale = 0)\n",
    "    error_idx = np.where(Photo<1)\n",
    "    \n",
    "    # store the vertical coordinate (row index) of corrupted pixels in numpy array rows_err \n",
    "    rows_err = error_idx[0]\n",
    "    # store the horizontal coordinate (column index) of corrupted pixels in numpy array cols_err \n",
    "    cols_err = error_idx[1]\n",
    "    # determine number of corrupted pixels \n",
    "    errsize = rows_err.shape[0]\n",
    "    \n",
    "    # create a numpy array X_err which we use to store the feature vectors of corrupted pixels\n",
    "    X_err = np.zeros((errsize,1))\n",
    "    \n",
    "    # augment image in Data with stripes such that we can also define neighborhoods of border pixels \n",
    "    tmp = np.vstack((np.zeros((wp,imgwidth)),Photo,np.zeros((wp,imgwidth)))) \n",
    "    # with tmp, we build temporary tuples\n",
    "    # stacking vertically array of size wp,imgwidth filled with zeros, photograph \n",
    "    # and again array of size wp, imgwidth filled with zeros.\n",
    "    augmented = np.hstack((np.zeros((2*wp+imgheight,hp)),tmp,np.zeros((2*wp+imgheight,hp))))\n",
    "    \n",
    "    for iter_datapoint in range(errsize): \n",
    "        # determine row index in augmented image (add offset wp)\n",
    "        row_tmp = rows_err[iter_datapoint]+wp\n",
    "        # determine column index in augmented image (add offset hp)\n",
    "        col_tmp = cols_err[iter_datapoint]+hp\n",
    "        # the feature of a data point (pixel) is the average gray level of the neighborhoud \n",
    "        X_err[iter_datapoint] = np.sum(augmented[(row_tmp-wp):(row_tmp),(col_tmp-hp):(col_tmp+hp+1)])/(wp*(2*hp+1))\n",
    "\n",
    "    # compute predicted label values (grayscale level) of corrupted pixels \n",
    "    y_hat = w1 * X_err\n",
    "    \n",
    "    # copy pixels of corrupted image into numpy array \"reconstruction\"\n",
    "    reconstruction = Photo.copy()\n",
    "    \n",
    "    for iter_datapoint in range(errsize): \n",
    "        row_tmp = rows_err[iter_datapoint]\n",
    "        col_tmp = cols_err[iter_datapoint]\n",
    "        # replace corrupted pixels with predicted grayscale values\n",
    "        reconstruction[row_tmp,col_tmp]=  y_hat[iter_datapoint]\n",
    "  \n",
    "    # display corrupted photo along with the reconstructed photo \n",
    "    fig, ax = plt.subplots(1, 2, figsize=(20, 10))\n",
    "    \n",
    "    # grayscale plot of corrupted Photo \n",
    "    ax[0].imshow(Photo,cmap='gray')\n",
    "    # grayscale plot of reconstructed Photo \n",
    "    ax[1].imshow(reconstruction, cmap='gray')\n",
    "    \n",
    "    ax[0].set_title(\"corrupted aearial photograph\",fontsize=20)\n",
    "    ax[1].set_title(\"reconstructed aerial photograph\",fontsize=20)\n",
    "    #axesrec.scatter(cols_err,rows_err)\n",
    "    plt.show()"
   ]
  },
  {
   "cell_type": "markdown",
   "metadata": {
    "deletable": false,
    "editable": false,
    "nbgrader": {
     "cell_type": "markdown",
     "checksum": "405a4baab6d5e581a53cddec777af443",
     "grade": false,
     "grade_id": "cell-1a60d1bfa6cdee14",
     "locked": true,
     "schema_version": 3,
     "solution": false,
     "task": false
    }
   },
   "source": [
    "## The Data\n",
    "\n",
    "Our goal is to learn an accurate predictor $h(\\mathbf{x})$ for the grayscale $y$ of a particular pixel in an aerial photograph. The prediction $h(\\mathbf{x})$ is based on several features (characteristics) $\\mathbf{x} = \\big(x_{1},\\ldots,x_{n}\\big)^{T}$ of the pixel. Some of these features are obtained from the grayscale values of nearby pixels. Indeed, we expect that the grayscale values nearby pixels are typically similar. \n",
    "\n",
    "To learn a predictor $h(\\mathbf{x})$, we use uncorrupted pixels (those which are not black) in the aerial photograph. Let us enumrate these uncorrupted pixels by $i=1,\\ldots,m$. A particular uncorrupted pixels $i$ is characertized by the features $\\mathbf{x}^{(i)} \\in \\mathbb{R}^{n}$ and the grayscale value $y^{(i)}$ of the pixel itself. We then use ML methods to find (or learn) a useful predictor $h(\\mathbf{x})$ which yields a small average prediction error $h(\\mathbf{x}^{(i)}) - y^{(i)}$ for $i=1,\\ldots,m$."
   ]
  },
  {
   "cell_type": "markdown",
   "metadata": {
    "deletable": false,
    "editable": false,
    "nbgrader": {
     "cell_type": "markdown",
     "checksum": "8bff0b9329e6520eda84cc03a8ae1c6f",
     "grade": false,
     "grade_id": "cell-af1923f46c54cd28",
     "locked": true,
     "schema_version": 3,
     "solution": false
    }
   },
   "source": [
    "<a id='handsondata'></a>\n",
    "<div class=\" alert alert-info\">\n",
    "<p><b>Demo.</b> Loading the Data.</p>\n",
    "    \n",
    "The following code snippet defines a function `X,y= GetFeaturesLabels(m,n)` which reads in data of the pixels and their greyscales. The input parameters are the number `m` of data points and the number `n` of features to be used for each data point. The function returns a matrix $\\mathbf{X}$ and vector $\\mathbf{y}$. \n",
    "\n",
    "The features $\\mathbf{x}^{(i)}$ describing pixels are stored in the rows of the numpy array `X` (of shape (m,n)) and the corresponding greyscale values $y^{(i)}$ in the numpy array `y` (shape (m,1)). The two arrays represent the feature matrix $\\mathbf{X} = \\begin{pmatrix} \\mathbf{x}^{(1)} & \\ldots & \\mathbf{x}^{(m)} \\end{pmatrix}^{T}$ and the label vector $\\mathbf{y} = \\big( y^{(1)}, \\ldots, y^{(m)} \\big)^{T}$. \n",
    "\n",
    "</div>"
   ]
  },
  {
   "cell_type": "code",
   "execution_count": null,
   "metadata": {
    "deletable": false,
    "editable": false,
    "nbgrader": {
     "cell_type": "code",
     "checksum": "af13199f39c664a570db26d318ca2a2b",
     "grade": false,
     "grade_id": "cell-d402c75ab3a88eef",
     "locked": true,
     "schema_version": 3,
     "solution": false,
     "task": false
    }
   },
   "outputs": [],
   "source": [
    "# import \"Pandas\" library/package (and use shorthand \"pd\" for the package) \n",
    "# Pandas provides functions for loading (storing) data from (to) files\n",
    "import pandas as pd  \n",
    "# the library \"cv2\" provides powerful methods for image processing and computer vision\n",
    "import cv2 \n",
    "# import functions for displaying and plotting data \n",
    "from matplotlib import pyplot as plt \n",
    "from IPython.display import display, HTML\n",
    "# library \"numpy\" provides matrix (represented by numpy arrays) operations \n",
    "import numpy as np   \n",
    "# library \"random\" provides functions for generating random numbers\n",
    "import random\n",
    "\n",
    "def GetFeaturesLabels(m=10, n=10):\n",
    "\n",
    "    corrupted = '/coursedata/R2_Regression/SomePhotoCorrupted.bmp'\n",
    "\n",
    "    Photo = cv2.imread(corrupted, 0)\n",
    "    Photo = cv2.resize(Photo, (100, 100))\n",
    "    \n",
    "    imgwidth = Photo.shape[0]\n",
    "    imgheight = Photo.shape[1]\n",
    "    \n",
    "    # define size of neighborhood which is used to characterize a pixel\n",
    "    wp = 2\n",
    "    hp = 2\n",
    "        \n",
    "    # determine \"uncorroputed pixels\" by finding those pixels with grayscale value larger than 0\n",
    "    good_idx = np.where(Photo > 0)\n",
    "    \n",
    "    # avoid pixels close to the boundary since we cannot find neighouring pixels for them \n",
    "    rows = np.clip(good_idx[0] , wp, imgheight - wp)\n",
    "    cols = np.clip(good_idx[1], hp, imgwidth - hp)\n",
    "    \n",
    "    # the function cv2.imread() returns an array of grayscale values 0...255 stored as integers \n",
    "    # it will be convenient to convert the integers to floating point numbers \n",
    "    # this allows us to work with grayscale values as real numbers \n",
    "    Photo = Photo.astype(float)\n",
    "    samplesize = rows.shape[0]\n",
    "    \n",
    "    # augment image in Data with stripes such that we can also define neighborhoods of border pixels \n",
    "    tmp = np.vstack((np.zeros((wp,imgwidth)),Photo,np.zeros((wp,imgwidth))))\n",
    "    augmented = np.hstack((np.zeros((2*wp+imgheight,hp)),tmp,np.zeros((2*wp+imgheight,hp))))\n",
    "\n",
    "    # construct features X for and label vector y for training \n",
    "    x1 = np.zeros((samplesize,1))\n",
    "    y = np.zeros((samplesize,1))\n",
    " \n",
    "    for iter_datapoint in range(m): \n",
    "        row_tmp = rows[iter_datapoint]+wp\n",
    "        col_tmp = cols[iter_datapoint]+hp\n",
    "        # the feature of a data point (pixel) is the average gray level of the neighborhoud \n",
    "        x1[iter_datapoint] = np.sum(augmented[(row_tmp-wp):(row_tmp),(col_tmp-hp):(col_tmp+hp+1)])/(wp*(2*hp+1))\n",
    "        y[iter_datapoint] = augmented[row_tmp,col_tmp]\n",
    "\n",
    "    x1 = x1[0:m]\n",
    "    np.random.seed(30) # this is done so that every time that below np.random.randn is called, it produces the same output. \n",
    "                       # this is needed for testing purposes\n",
    "    # lets add some \"extra features\" here \n",
    "    X = np.hstack((x1,np.random.randn(n,m).T)) \n",
    "    \n",
    "    X = X[:,0:n] \n",
    "    y = y[0:m]\n",
    "\n",
    "    return X, y"
   ]
  },
  {
   "cell_type": "markdown",
   "metadata": {
    "deletable": false,
    "editable": false,
    "nbgrader": {
     "cell_type": "markdown",
     "checksum": "249e94734fd8671cc2db97c6bc028933",
     "grade": false,
     "grade_id": "cell-b85dc13f39e40ddd",
     "locked": true,
     "schema_version": 3,
     "solution": false
    }
   },
   "source": [
    "## Visualize Data\n",
    "\n",
    "Scatter plots visualize data points by representing them as \"dots\" in the two-dimensional plane. Scatter plots can help to develop an intuition for the relation between features and labels of data points. \n"
   ]
  },
  {
   "cell_type": "markdown",
   "metadata": {
    "deletable": false,
    "editable": false,
    "nbgrader": {
     "cell_type": "markdown",
     "checksum": "1c08c71db29bd225e89b91fbb7ca6026",
     "grade": false,
     "grade_id": "cell-9fa6ce321f69617f",
     "locked": true,
     "schema_version": 3,
     "solution": false
    }
   },
   "source": [
    "<a id='drawplot'></a>\n",
    "<div class=\" alert alert-info\">\n",
    "    <p><b>Demo.</b> Scatter Plots.</p>\n",
    "    <p>The code snippet below creates one scatterplot showing the first feature $x^{(i)}_{1}$ and the label $y^{(i)}$ (greyscale) for each data point. It also creates a second scatterplot with the second feature $x^{(i)}_{2}$ and the label $y^{(i)}$ (greyscale) for each data point.</p>\n",
    "</div>"
   ]
  },
  {
   "cell_type": "code",
   "execution_count": null,
   "metadata": {
    "deletable": false,
    "editable": false,
    "nbgrader": {
     "cell_type": "code",
     "checksum": "ada6392f7204d0659694226a19cc0c09",
     "grade": false,
     "grade_id": "cell-9e4c40988deb13df",
     "locked": true,
     "schema_version": 3,
     "solution": false
    }
   },
   "outputs": [],
   "source": [
    "# pyplot library provides functions for plotting data \n",
    "from matplotlib import pyplot as plt \n",
    "\n",
    "# read in features and labels of m=1000 data points, each of which \n",
    "# is characterized by n=10 features \n",
    "X,y = GetFeaturesLabels(1000,10)\n",
    "\n",
    "# create a figure with 2 subplots arranged in 1 row \n",
    "fig, axs = plt.subplots(1, 2,figsize=(15,5))\n",
    "\n",
    "# create first subplot \n",
    "axs[0].scatter(X[:,0], y)\n",
    "axs[0].set_title(r'first feature $x_{1}$ vs. label $y$')\n",
    "axs[0].set_xlabel(r'$x_{1}$')\n",
    "axs[0].set_ylabel(r'$y$')\n",
    "\n",
    "# create second subplot \n",
    "axs[1].scatter(X[:,1], y)\n",
    "axs[1].set_xlabel(r'$x_{2}$')\n",
    "axs[1].set_title('second feature $x_{2}$ vs. label $y$')\n",
    "axs[1].set_ylabel(r'$y$')\n",
    "\n",
    "# display the figure containing two subplots \n",
    "plt.show()"
   ]
  },
  {
   "cell_type": "markdown",
   "metadata": {
    "deletable": false,
    "editable": false,
    "nbgrader": {
     "cell_type": "markdown",
     "checksum": "bdecbc701060a73ad32d11192f23779d",
     "grade": false,
     "grade_id": "cell-d8ccaaf344192e57",
     "locked": true,
     "schema_version": 3,
     "solution": false
    }
   },
   "source": [
    "<a id='drawplot'></a>\n",
    "<div class=\" alert alert-warning\"><b>Student Task.</b> Scatter Plots.\n",
    "\n",
    "<p>Create a scatterplot with x-axis (horizontal axis) representing the third feature $x^{(i)}_{3}$ and $y$-axis (vertical axis) representing the label values $y^{(i)}$ for each of the $m=10$ labeled data points $\\big(\\mathbf{x}^{(i)},y^{(i)}\\big)$. \n",
    "</p>\n",
    "<p><b>Hint:</b>  Remember, indexing in python starts from 0, not 1.</p>\n",
    "</div>"
   ]
  },
  {
   "cell_type": "code",
   "execution_count": null,
   "metadata": {
    "deletable": false,
    "nbgrader": {
     "cell_type": "code",
     "checksum": "66c351c8086fa1a5ffa20a27e4ad0f20",
     "grade": false,
     "grade_id": "cell-6ae0e9e3279dd417",
     "locked": false,
     "schema_version": 3,
     "solution": true
    }
   },
   "outputs": [],
   "source": [
    "from matplotlib import pyplot as plt \n",
    "\n",
    "def studentScatterPlot(X, y):\n",
    "    fig, axes = plt.subplots(1, 1, figsize=(8, 4))\n",
    "    ### STUDENT TASK ###\n",
    "    # get the correct feature from X and save to X_new\n",
    "    # X_new = ...\n",
    "    # use X_new to create the scatter plot\n",
    "    # axes.scatter ... \n",
    "    # YOUR CODE HERE\n",
    "    X_new = X[:,2]\n",
    "    axes.scatter(X_new, y)\n",
    "    \n",
    "    # raise NotImplementedError()\n",
    "    axes.set_title('feature $x_{3}$ vs. label $y$')\n",
    "    axes.set_xlabel(r'$x_{3}$')\n",
    "    axes.set_ylabel('$y$')\n",
    "    return X_new, axes\n",
    "\n",
    "X,y = GetFeaturesLabels(10,10)   # read in features and labels\n",
    "axes = studentScatterPlot(X, y)\n",
    "plt.show()"
   ]
  },
  {
   "cell_type": "code",
   "execution_count": null,
   "metadata": {
    "deletable": false,
    "editable": false,
    "nbgrader": {
     "cell_type": "code",
     "checksum": "620a27f9f83b693e5e44e0b967012c59",
     "grade": true,
     "grade_id": "cell-f1705f6e7a1a7c67",
     "locked": true,
     "points": 1,
     "schema_version": 3,
     "solution": false
    }
   },
   "outputs": [],
   "source": [
    "# this cell constains visible tests (sanity checks) and \n",
    "# hidden tests which are used for grading student solutions \n",
    "\n",
    "X, y = GetFeaturesLabels(10,10)   # read in features and labels\n",
    "X_new, axes = studentScatterPlot(X, y)\n",
    "assert X_new.shape == (10,), \"'X_new' has wrong dimensions.\"\n",
    "assert X_new[1] < 0.11, \"'X_new[1]' has wrong value.\"\n",
    "assert X_new[9] > 0.93, \"'X_new[9]' has wrong value.\"\n",
    "\n",
    "\n",
    "\n",
    "print('sanity check tests passed!')"
   ]
  },
  {
   "cell_type": "markdown",
   "metadata": {
    "deletable": false,
    "editable": false,
    "nbgrader": {
     "cell_type": "markdown",
     "checksum": "2db01c3f3ea88de164a011a00af4c956",
     "grade": false,
     "grade_id": "cell-ba1d8078dc67137d",
     "locked": true,
     "schema_version": 3,
     "solution": false
    }
   },
   "source": [
    "## Linear Regression \n",
    "\n",
    "We try to predict the label $y$ of a data point (representing a pixel in an aerial photograph) \n",
    "based on $n$ properties or features $\\mathbf{x}=(x_{1},\\ldots,x_{n})^{T} \\in \\mathbb{R}^{n}$ of that data point. To this end, we try to find (or learn) a predictor function $h(\\mathbf{x})$ such that $y \\approx h(\\mathbf{x})$. \n",
    "\n",
    "Within linear regression, we restrict the predictor function to be a linear function. Thus, linear regression uses the hypothesis space of linear predictor functions,  \n",
    "\\begin{equation*}\n",
    " \\mathcal{H} = \\{h^{(\\mathbf{w})}(\\mathbf{x}) = \\mathbf{w}^{T} \\mathbf{x} \\mbox{ for some } \\mathbf{w} \\in \\mathbb{R}^{n}\\}.\n",
    "\\label{eq1}\n",
    "\\tag{1}\n",
    "\\end{equation*}\n",
    "Note that, for two vectors $\\mathbf{w}=\\big(w_{1},\\ldots,w_{n}\\big)^{T} \\in \\mathbb{R}^{n}$ and $\\mathbf{x}=\\big(x_{1},\\ldots,x_{n}\\big)^{T}\\in \\mathbb{R}^{n}$, we denote by $\\mathbf{w}^{T} \\mathbf{x} = \\sum_{r=1}^{n} w_{r} x_{r}$ the inner product between those vectors. \n",
    "\n",
    "To measure the quality of a particular predictor $h^{(\\mathbf{w})}(\\mathbf{x}) = \\mathbf{w}^{T} \\mathbf{x}$, obtained for some particular choice for the weight vector $\\mathbf{w} \\in \\mathbb{R}^{n}$, we try it labeled data points, i.e., data points for which we know the correct label value $y$. For a labeled data point with features $\\mathbf{x}^{(i)}$, we can compare its label $y^{(i)}$ with the predicted label $h^{(\\mathbf{w})}(\\mathbf{x}^{(i)}) = \\mathbf{w}^{T} \\mathbf{x}^{(i)}$. \n",
    "\n",
    "The prediction $h^{(\\mathbf{w})}(\\mathbf{x}^{(i)})$ will typically incur a non-zero __prediction error__ $y^{(i)} - h^{(\\mathbf{w})}(\\mathbf{x}^{(i)})$. To measure the error or **loss** incurred by the prediction $\\hat{y}=h(\\mathbf{x})$ (which is the result of applying the predictor function $h(\\cdot)$ to the features $\\mathbf{x}$), we need to define a loss function $\\mathcal{L}(y,\\hat{y})$. In principle, the loss function can be chosen freely by the ML scientist or engineer based on the application at hand. \n",
    "\n",
    "For numeric labels $y$, e.g. the label is a real number, a popular choice for the loss is the [squared error loss](https://scikit-learn.org/stable/modules/model_evaluation.html#mean-squared-error) $\\mathcal{L}(y,\\hat{y}) = (y-\\hat{y})^{2}$. Note that we can only evaluate the loss if we know the true label $y$ of a data point. Given a set of labeled data points $\\big(\\mathbf{x}^{(i)},y^{(i)}\\big)$, we can compute the average loss \n",
    "\\begin{equation*}\n",
    " \\mathcal{E} (\\mathbf{w}) = (1/m) \\sum^{m}_{i=1}(y^{(i)} - \\mathbf{w}^{T} \\mathbf{x}^{(i)})^2.\n",
    "\\label{eq2}\n",
    "\\tag{2}\n",
    "\\end{equation*}\n",
    "for a particular predictor $h^{(\\mathbf{w})}(\\mathbf{x}) = \\mathbf{w}^{T} \\mathbf{x}$. \n",
    "\n",
    "The optimal weight vector $\\mathbf{w}_{\\rm opt}$ is any weight vector which achives the minimum value of $ \\mathcal{E} (\\mathbf{w})$, i.e., $$\\mathcal{E} (\\mathbf{w}_{\\rm opt})= \\min_{\\mathbf{w} \\in \\mathbb{R}^{n}}\\mathcal{E} (\\mathbf{w}).$$\n",
    "An optimal predictor is then obtained as $h(\\mathbf{x}) = \\mathbf{w}_{\\rm opt}^{T} \\mathbf{x}$. The average loss \n",
    "\n",
    "$$\\mathcal{E} (\\mathbf{w}_{\\rm opt}) = (1/m) \\sum^{m}_{i=1}(y^{(i)} - \\mathbf{w}_{\\rm opt}^{T} \\mathbf{x}^{(i)})^2$$\n",
    " \n",
    "incurred by the optimal predictor $h(\\mathbf{x}) = \\mathbf{w}_{\\rm opt}^{T} \\mathbf{x}$ is also known as the **training error**. The training error is the average loss of the linear predictor which is optimal the labeled data points (the **training data**) $\\big(\\mathbf{x}^{(i)},y^{(i)}\\big)$ for $i=1,\\ldots,m$. "
   ]
  },
  {
   "cell_type": "markdown",
   "metadata": {
    "deletable": false,
    "editable": false,
    "nbgrader": {
     "cell_type": "markdown",
     "checksum": "2f9118ea3ac15e2bfe9222c94a287298",
     "grade": false,
     "grade_id": "cell-049bdf44b143edcb",
     "locked": true,
     "schema_version": 3,
     "solution": false
    }
   },
   "source": [
    "<a id='drawplot'></a>\n",
    "<div class=\" alert alert-info\"><p><b>Demo.</b> Learning a Linear Predictor.</p>\n",
    "<p>\n",
    "The code snippet below shows how to use the `LinearRegression` class from the Python library `scikit-learn` to learn an optimal predictor from the set of linear predictors $h(\\mathbf{x}) = \\mathbf{w}^{T} \\mathbf{x}$ using the squared error loss. \n",
    "</p>\n",
    "<p>\n",
    "The optimal weight vector $\\mathbf{w}_{\\rm opt}$ can be found by the function `LinearRegression.fit()`. The resulting optimal weight vector is stored in the variable `LinearRegression.coef_`. Using the optimal weight vector, we compute the training error \n",
    "\\begin{equation}\n",
    "(1/m) \\sum_{i=1}^{m} \\big( y^{(i)} - \\mathbf{w}_{\\rm opt}^{T} \\mathbf{x}^{(i)} \\big)^{2}. \n",
    "\\end{equation}\n",
    "and store it in the variable `training_error`. \n",
    "</p>\n",
    "<p>\n",
    "You can find the documentation of the `LinearRegression` class under [this link](https://scikit-learn.org/stable/modules/generated/sklearn.linear_model.LinearRegression.html). \n",
    "</p>\n",
    "</div>"
   ]
  },
  {
   "cell_type": "code",
   "execution_count": null,
   "metadata": {
    "deletable": false,
    "editable": false,
    "nbgrader": {
     "cell_type": "code",
     "checksum": "dd87cb9f1c7c18bcfc4aa9dc7cda569c",
     "grade": false,
     "grade_id": "cell-577688b1df8c48f9",
     "locked": true,
     "schema_version": 3,
     "solution": false
    }
   },
   "outputs": [],
   "source": [
    "# the class \"LinearRegression\" from the library scikit-learn allows to find \n",
    "# linear predictors that minimize the average squared error loss\n",
    "from sklearn.linear_model import LinearRegression\n",
    "# the function \"mean_squared_error\" allows to compute the average squared error \n",
    "# between two lists of label values (one list with true label values \n",
    "# and the other list with predicted label values)\n",
    "from sklearn.metrics import mean_squared_error\n",
    "# import some convenient tools for plotting data \n",
    "from IPython.display import display, Math\n",
    "\n",
    "# read in features and labels (grayscale values) of uncorrupted pixels \n",
    "X,y = GetFeaturesLabels(1000, 3)   # read in features and labels\n",
    "\n",
    "# create a LinearRegression object with no intercept term\n",
    "# this object represents the space of predictor functions h(x) = w^{T}x\n",
    "reg = LinearRegression(fit_intercept=False) \n",
    "\n",
    "# the method fit() determines the weight vector w such that the \n",
    "# average squared error between predicted label w^{T}x and true \n",
    "# label y is minimized for the labeled data points \n",
    "reg = reg.fit(X, y)\n",
    "\n",
    "# we can read out the optimal weight vector using reg.coef_ \n",
    "optimal_weight = reg.coef_\n",
    "\n",
    "# reshape the numpy array to have dimension (n,1) \n",
    "optimal_weight = optimal_weight.reshape(-1,1)\n",
    "\n",
    "# after the optimal weight w has been determined determine the \n",
    "# corresponding average squared error (mean squared errror) on \n",
    "# the training set (which has been used to optimize the weight!)\n",
    "training_error = mean_squared_error(y, reg.predict(X))\n",
    "\n",
    "# plot the optimal weight vector entries and training error \n",
    "display(Math(r'$\\mathbf{w}_{\\rm opt} ='))\n",
    "print(optimal_weight)\n",
    "print(\"\\nThe resulting average squared error (training error) is \", training_error)\n",
    "\n",
    "# plot the aearial photo with reconstructed corrupted pixels\n",
    "DisplayRecoveredPixels(optimal_weight)"
   ]
  },
  {
   "cell_type": "markdown",
   "metadata": {
    "deletable": false,
    "editable": false,
    "nbgrader": {
     "cell_type": "markdown",
     "checksum": "8df8311ac8e3a8fecef16d28d7bd7fc4",
     "grade": false,
     "grade_id": "cell-a5ee14879390235c",
     "locked": true,
     "schema_version": 3,
     "solution": false
    }
   },
   "source": [
    "<a id='varying_features'></a>\n",
    "<div class=\" alert alert-warning\">\n",
    "    <p><b>Student Task</b> Varying Number of Features. </p>\n",
    "    \n",
    "In principle, we can freely choose how many of the available features $x_{1}, x_{2},\\ldots,x_{n}$ \n",
    "of a data point to use for predicting the label $y$. You are now to explore the effect of using a varying number $r \\leq n$ of features on the resulting training error of linear regression. For each $r=1,2,\\ldots,10$, fit a linear model (using `LinearRegression(fit_intercept=False)` to the labeled dataset (using $m=10$ data points) by using only the first $r$ features $x_{1},...,x_{r}$ of a data point. \n",
    "<br />    \n",
    "- You can get the first $r$ features and label of $m$ labeled data points using `GetFeaturesLabels(m,r)`.<br />\n",
    "- For each value of $r$, determine the resulting training error (using the Python function `mean_squared_error()`) of the fitted linear model. <br />\n",
    "- The results should be stored in a numpy array `linreg_error`. <br />\n",
    "\n",
    "</div>"
   ]
  },
  {
   "cell_type": "code",
   "execution_count": 94,
   "metadata": {
    "deletable": false,
    "nbgrader": {
     "cell_type": "code",
     "checksum": "d4c2716363a17b1d5948e91a67eaf354",
     "grade": false,
     "grade_id": "cell-adb3039336234c0d",
     "locked": false,
     "schema_version": 3,
     "solution": true
    }
   },
   "outputs": [
    {
     "data": {
      "image/png": "[encoded data removed]",
      "text/plain": [
       "<Figure size 576x288 with 1 Axes>"
      ]
     },
     "metadata": {
      "needs_background": "light"
     },
     "output_type": "display_data"
    }
   ],
   "source": [
    "from sklearn.linear_model import LinearRegression\n",
    "from sklearn.metrics import mean_squared_error\n",
    "\n",
    "# we use m data points (each data point representing an uncorrupted pixel) \n",
    "m = 10   \n",
    "# maximum number of features used \n",
    "max_r = 10                        \n",
    "\n",
    "# read in m data points using max_r features \n",
    "X, y = GetFeaturesLabels(m, max_r) \n",
    "  \n",
    "# vector for storing the training error of LinearRegresion.fit() for each r\n",
    "linreg_error = np.zeros(max_r)    \n",
    "\n",
    "### STUDENT TASK ###\n",
    "# linreg_error = ... \n",
    "# Hint: loop \"max_r\" times.\n",
    "\n",
    "# YOUR CODE HERE\n",
    "# raise NotImplementedError()\n",
    "\n",
    "for r_feature in range(max_r):\n",
    "    X_new = X[:,:r_feature+1]\n",
    "    reg = LinearRegression(fit_intercept=False) \n",
    "    reg = reg.fit(X_new,y)\n",
    "    optimal_weight = reg.coef_\n",
    "    optimal_weight = optimal_weight.reshape(-1,1)\n",
    "    training_error = mean_squared_error(y, reg.predict(X_new))\n",
    "    linreg_error[r_feature] = training_error\n",
    "    \n",
    "# create a numpy array \"r_values\" containing the values 1,2...,max_r \n",
    "r_values = np.linspace(1, max_r, max_r, endpoint=True)\n",
    "# create a plot object which can be accessed using variables \"fig\" and \"axes\"\n",
    "fig, axes = plt.subplots(1,1, figsize=(8, 4))\n",
    "# add a curve representing the average squared error for each choice of r \n",
    "axes.plot(r_values, linreg_error, label='MSE', color='red')\n",
    "# add captions for the horizontal and vertical axes \n",
    "axes.set_xlabel('features')\n",
    "axes.set_ylabel('empirical error')\n",
    "# add a title to the plot \n",
    "axes.set_title('training error vs number of features')\n",
    "axes.legend()\n",
    "plt.tight_layout()\n",
    "# display the plot \n",
    "plt.show()"
   ]
  },
  {
   "cell_type": "code",
   "execution_count": 95,
   "metadata": {
    "deletable": false,
    "editable": false,
    "nbgrader": {
     "cell_type": "code",
     "checksum": "ccb3590c1fbdb1c8f753e12c621d7adf",
     "grade": true,
     "grade_id": "cell-b0017e97370ec75b",
     "locked": true,
     "points": 3,
     "schema_version": 3,
     "solution": false
    }
   },
   "outputs": [
    {
     "name": "stdout",
     "output_type": "stream",
     "text": [
      "sanity check tests passed!\n"
     ]
    }
   ],
   "source": [
    "# this cell constains visible tests (sanity checks) and \n",
    "# hidden tests which are used for grading student solutions \n",
    "\n",
    "assert linreg_error.shape == (max_r,), \"'linreg_error' has wrong dimensions.\"\n",
    "assert linreg_error[1] > 0.01 * linreg_error[3], \"training error for n=10 is too small \"\n",
    "assert linreg_error[5] > 50, \"training error for n=6 is too small \"\n",
    "print('sanity check tests passed!')\n"
   ]
  },
  {
   "cell_type": "markdown",
   "metadata": {
    "deletable": false,
    "editable": false,
    "nbgrader": {
     "cell_type": "markdown",
     "checksum": "c408ff95ec52c900a3eacb0d6ce8fc3e",
     "grade": false,
     "grade_id": "cell-ab5cf2b4d9840b3b",
     "locked": true,
     "schema_version": 3,
     "solution": false
    }
   },
   "source": [
    "<a id='varying_features'></a>\n",
    "<div class=\" alert alert-warning\">\n",
    "<p><b>Student Task.</b> Varying Number of Data Points.</p>\n",
    "    \n",
    "Beside the number of features used to describe data points, another important parameter of a data set is the number $m$ of data points available. We need a sufficent amount of labeled data points to learn a useful predictor. \n",
    "    \n",
    "Let us now explore the effect of using a varying number $m$ of data points on the average squared loss achieved by the optimal predictor. The optimal predictor is obtained by minimizing the average squared loss incurred on the $m$ labeled data points. \n",
    "\n",
    "- For each choice $m=1,2,\\ldots,10$ read in the first $m$ data points of greyscales using $n=2$ features. This can be done using `GetFeaturesLabels(m,2)`.\n",
    "- For each $m$, fit a linear model (using `LinearRegression(fit_intercept=False)` to the first $m$ data points.\n",
    "- Store the resulting training errors in the numpy array `train_error` of shape (10,1). The $m$th entry of this array should be the training error obtained when using $m$ data points. Note that the first entry of a numpy array has index $0$, i.e., the value `train_error[0]` stores the training error obtained for `m=1`. \n",
    "\n",
    "</div>"
   ]
  },
  {
   "cell_type": "code",
   "execution_count": 131,
   "metadata": {
    "deletable": false,
    "nbgrader": {
     "cell_type": "code",
     "checksum": "fc02e279e12302a5b99dd27b766e3627",
     "grade": false,
     "grade_id": "cell-e57b15d397a6b503",
     "locked": false,
     "schema_version": 3,
     "solution": true
    }
   },
   "outputs": [
    {
     "data": {
      "image/png": "[encoded data removed]",
      "text/plain": [
       "<Figure size 576x288 with 1 Axes>"
      ]
     },
     "metadata": {
      "needs_background": "light"
     },
     "output_type": "display_data"
    }
   ],
   "source": [
    "# maximum number of data points \n",
    "max_m = 10     \n",
    "\n",
    "# read in max_m data points using n=2 features \n",
    "X, y = GetFeaturesLabels(max_m, 2)   \n",
    "\n",
    "# create numpy array \"train_error\" for storing the average squared \n",
    "# error for each choice of number of data points, i.e., \n",
    "# train_error[0] is the average error for m=1 labeled data points, \n",
    "# train_error[1] is the average error for m=2 labeled data points, \n",
    "# ... \n",
    "# train_error[max_m-1] is the average error for m=m_max labeled data points\n",
    "train_error = np.zeros(max_m)         \n",
    "\n",
    "### STUDENT TASK ###\n",
    "# train_error = ... \n",
    "# Hint: loop \"max_m\" times.\n",
    "# YOUR CODE HERE\n",
    "# raise NotImplementedError()\n",
    "\n",
    "for m in range(max_m):\n",
    "    X_new = X[:m+1,:]\n",
    "    y_new = y[:m+1]\n",
    "    reg = LinearRegression(fit_intercept=False) \n",
    "    reg = reg.fit(X_new,y_new)\n",
    "    training_error = mean_squared_error(y_new, reg.predict(X_new))\n",
    "    train_error[m] = training_error\n",
    "\n",
    "# create a numpy array \"m_values\" containing the values 1,2...,max_m\n",
    "m_values = np.linspace(1, max_m, max_m, endpoint=True)\n",
    "# create a plot object which can be accessed using variables \"fig\" and \"axes\"\n",
    "fig, axes = plt.subplots(nrows=1, ncols=1, figsize=(8, 4))\n",
    "# add a curve representing the average squared error for each choice of r\n",
    "axes.plot(m_values, train_error, label='MSE', color='red')\n",
    "# add captions for axes of the plot \n",
    "axes.set_xlabel('number of data points (sample size)')\n",
    "axes.set_ylabel('training error')\n",
    "# add title for the plot \n",
    "axes.set_title('training error vs. number of data points')\n",
    "axes.legend()\n",
    "plt.tight_layout()\n",
    "# display the plot \n",
    "plt.show()"
   ]
  },
  {
   "cell_type": "code",
   "execution_count": 111,
   "metadata": {
    "deletable": false,
    "editable": false,
    "nbgrader": {
     "cell_type": "code",
     "checksum": "89ebc63e7dcbf48c8175e41194ebbe06",
     "grade": true,
     "grade_id": "cell-d19e618cf3f2a6e6",
     "locked": true,
     "points": 3,
     "schema_version": 3,
     "solution": false
    }
   },
   "outputs": [
    {
     "name": "stdout",
     "output_type": "stream",
     "text": [
      "sanity check tests passed!\n"
     ]
    }
   ],
   "source": [
    "# this cell constains visible tests (sanity checks) and \n",
    "# hidden tests which are used for grading student solutions \n",
    "\n",
    "assert train_error.shape == (10,), \"'train_error' has wrong dimensions.\"\n",
    "assert train_error[0] < 100 * train_error[3], \"traiing error for m=1 is too large\"\n",
    "assert train_error[2] < 1, \"training error for m=3 is too large\"\n",
    "\n",
    "print('sanity check tests passed!')\n"
   ]
  },
  {
   "cell_type": "markdown",
   "metadata": {
    "deletable": false,
    "editable": false,
    "nbgrader": {
     "cell_type": "markdown",
     "checksum": "200dd675b3af8a6551404af9a30492a4",
     "grade": false,
     "grade_id": "cell-ba2b95035f72f865",
     "locked": true,
     "schema_version": 3,
     "solution": false,
     "task": false
    }
   },
   "source": [
    "## Robustness \n",
    "\n",
    "An important property of ML methods is their robustness to (small) perturbations in the data. In some applications, few data points might be corrupted (such as the pixels of an aerial photograph) and therefore intrinsically different from all other data points. We prefer ML methods which are affected only little by an error in a few data points."
   ]
  },
  {
   "cell_type": "markdown",
   "metadata": {
    "deletable": false,
    "editable": false,
    "nbgrader": {
     "cell_type": "markdown",
     "checksum": "b51cb2f7ad57cbf6ef8d0f5cccd6de48",
     "grade": false,
     "grade_id": "cell-95e180ce6b62fbb2",
     "locked": true,
     "schema_version": 3,
     "solution": false
    }
   },
   "source": [
    "<a id='drawplot'></a>\n",
    "<div class=\" alert alert-info\">\n",
    "<p><b>Demo.</b> Robustness of Linear Regression with Squared Error Loss.</p>\n",
    "<p>\n",
    "The code snippet below considers fitting a linear model for greyscales $y$ based on a single feature $x_{1}$. The resulting linear predictor minimizes the average squared error loss on the training data. We then intentionally perturb the first data point by setting $y_{1}^{(1)}$ to an unreasonable value. Using this corrupted data set, we then fit a linear model again and compare the so-obtained linear predictor to the linear predictor obtained previously from the \"clean\" data set.\n",
    "</p>\n",
    "</div>"
   ]
  },
  {
   "cell_type": "code",
   "execution_count": 112,
   "metadata": {
    "deletable": false,
    "editable": false,
    "nbgrader": {
     "cell_type": "code",
     "checksum": "e8c0f06a9637ef211a03506e7e3e1721",
     "grade": false,
     "grade_id": "cell-5f9aaa714f3351bf",
     "locked": true,
     "schema_version": 3,
     "solution": false
    }
   },
   "outputs": [
    {
     "data": {
      "image/png": "[encoded data removed]",
      "text/plain": [
       "<Figure size 1080x288 with 2 Axes>"
      ]
     },
     "metadata": {
      "needs_background": "light"
     },
     "output_type": "display_data"
    },
    {
     "name": "stdout",
     "output_type": "stream",
     "text": [
      "optimal weight w_opt by fitting to (training on) clean training data :  [[0.54406253]]\n",
      "optimal weight w_opt by fitting to (training on) perturbed training data :  [[1.49899413]]\n"
     ]
    }
   ],
   "source": [
    "from sklearn import linear_model\n",
    "\n",
    "# read in 10 data points with single feature x_1 and label y \n",
    "X,y = GetFeaturesLabels(10,1)   \n",
    "\n",
    "### fit a linear model to the clean data \n",
    "reg = linear_model.LinearRegression(fit_intercept=False)\n",
    "reg = reg.fit(X, y)\n",
    "y_pred = reg.predict(X)\n",
    "\n",
    "# now we intentionally perturb the label of the first data point \n",
    "y_perturbed = np.copy(y)  \n",
    "y_perturbed[0] = 1000; \n",
    "\n",
    "### fit a linear model to the perturbed data \n",
    "reg1 = linear_model.LinearRegression(fit_intercept=False)\n",
    "reg1 = reg1.fit(X, y_perturbed)\n",
    "y_pred_perturbed = reg1.predict(X)\n",
    "\n",
    "\n",
    "fig, axes = plt.subplots(1, 2, figsize=(15, 4))\n",
    "axes[0].scatter(X, y, label='data')\n",
    "axes[0].plot(X, y_pred, color='green', label='Fitted model')\n",
    "\n",
    "# now add individual line for each error point\n",
    "axes[0].plot((X[0], X[0]), (y[0], y_pred[0]), color='red', label='errors') # add label to legend\n",
    "for i in range(len(X)-1):\n",
    "    lineXdata = (X[i+1], X[i+1]) # same X\n",
    "    lineYdata = (y[i+1], y_pred[i+1]) # different Y\n",
    "    axes[0].plot(lineXdata, lineYdata, color='red')\n",
    "\n",
    "axes[0].set_title('fitted model using clean data')\n",
    "axes[0].set_xlabel('feature x_1')\n",
    "axes[0].set_ylabel('greyscale y')\n",
    "axes[0].legend()\n",
    "\n",
    "axes[1].scatter(X, y_perturbed, label='data')\n",
    "axes[1].plot(X, y_pred_perturbed, color='green', label='Fitted model')\n",
    "\n",
    "\n",
    "# now add individual line for each error point\n",
    "axes[1].plot((X[0], X[0]), (y_perturbed[0], y_pred_perturbed[0]), color='red', label='errors') # add label to legend\n",
    "for i in range(len(X)-1):\n",
    "    lineXdata = (X[i+1], X[i+1]) # same X\n",
    "    lineYdata = (y_perturbed[i+1], y_pred_perturbed[i+1]) # different Y\n",
    "    axes[1].plot(lineXdata, lineYdata, color='red')\n",
    "\n",
    "\n",
    "axes[1].set_title('fitted model using perturbed training data')\n",
    "axes[1].set_xlabel('feature x_1')\n",
    "axes[1].set_ylabel('greyscale y')\n",
    "axes[1].legend()\n",
    "\n",
    "plt.show()\n",
    "plt.close('all') # clean up after using pyplot\n",
    "\n",
    "print(\"optimal weight w_opt by fitting to (training on) clean training data : \", reg.coef_)\n",
    "print(\"optimal weight w_opt by fitting to (training on) perturbed training data : \", reg1.coef_)\n"
   ]
  },
  {
   "cell_type": "markdown",
   "metadata": {
    "deletable": false,
    "editable": false,
    "nbgrader": {
     "cell_type": "markdown",
     "checksum": "74c67498d5f05f0d782ff144fa6f7c1f",
     "grade": false,
     "grade_id": "cell-2841c0fccc7c99a9",
     "locked": true,
     "schema_version": 3,
     "solution": false
    }
   },
   "source": [
    "## Using Different Loss Function \n",
    "\n",
    "We observe from the demo above that the resulting linear predictor is heavily affected by corrupting only one single data point. The reason for this sensitivity is rooted in the properties of the squared error loss function used by the class `LinearRegression()`. Indeed by using the loss $(\\hat{y} - y)^{2}$ we force the predictor $\\hat{y}$ to not be too far away from any data point with very large value $y$ of the true label. \n",
    "\n",
    "It turns out that using a different loss function to learn a linear predictor can make the learning robust against few outliers. One such robust loss function is known as \"Huber loss\" $\\mathcal{L}(\\hat{y},y)$. Given a data point with label $y$ and a predicted label $\\hat{y}=h(\\mathbf{x})$ the Huber loss is defined as \n",
    "$$\\mathcal{L}(y,\\hat{y}) = \\begin{cases} (1/2) (y-\\hat{y})^{2} & \\mbox{ for } |y-\\hat{y}| \\leq  c \\\\ \n",
    "c (|y-\\hat{y}| - c/2) & \\mbox{ else. }\\end{cases}$$\n",
    "\n",
    "Note that the Huber loss contains a parameter $c$ which has to be adapted to the application at hand. To learn a linear predictor $h(\\mathbf{x}) = \\mathbf{w}^{T} \\mathbf{x}$ which minimizes the average Huber loss over the labeled data points in the training set we can use the [`HuberRegressor()`](https://scikit-learn.org/stable/modules/generated/sklearn.linear_model.HuberRegressor.html) class.\n",
    "\n",
    "The Huber loss contains two important special cases. The first special case is obtained when $c$ is chosen very large (the precise value depending on the value range of the features and labels) such that the condition $|y-\\hat{y}| \\leq  c$ is always satisfied. In this case, the Huber loss becomes the squared error loss $(y-\\hat{y})^{2}$ (with an additional factor 1/2). The second special case is obtained for choosing $c$ very small (close to $0$) such that the condition $|y-\\hat{y}| \\leq  c$ is never satisfied. In this case, the Huber loss becomes the absolute loss $|y - \\hat{y}|$ scaled by a factor $c$."
   ]
  },
  {
   "cell_type": "markdown",
   "metadata": {
    "deletable": false,
    "editable": false,
    "nbgrader": {
     "cell_type": "markdown",
     "checksum": "d7aca8f555c54de143ff5602aa2fe8f3",
     "grade": false,
     "grade_id": "cell-cf09b243fb1ad685",
     "locked": true,
     "schema_version": 3,
     "solution": false
    }
   },
   "source": [
    "<a id='drawplot'></a>\n",
    "<div class=\" alert alert-info\"><b>Demo.</b> Squared Error and Huber Loss.\n",
    "<p>\n",
    "The code below plots the squared error loss and the Huber loss for different choices of the parameter $c$. Note that the Huber loss reduces to the squared error loss for a sufficiently large value of the parameter $c$.\n",
    "</p>\n",
    "</div>"
   ]
  },
  {
   "cell_type": "code",
   "execution_count": 113,
   "metadata": {
    "deletable": false,
    "editable": false,
    "nbgrader": {
     "cell_type": "code",
     "checksum": "e644454ee32f42f0efd3bc30ad55a9b3",
     "grade": false,
     "grade_id": "cell-5dfd931359725f65",
     "locked": true,
     "schema_version": 3,
     "solution": false,
     "task": false
    }
   },
   "outputs": [
    {
     "data": {
      "image/png": "[encoded data removed]",
      "text/plain": [
       "<Figure size 720x270 with 1 Axes>"
      ]
     },
     "metadata": {
      "needs_background": "light"
     },
     "output_type": "display_data"
    }
   ],
   "source": [
    "# Author: Jake VanderPlas\n",
    "# License: BSD\n",
    "#   The figure produced by this code is published in the textbook\n",
    "#   \"Statistics, Data Mining, and Machine Learning in Astronomy\" (2013)\n",
    "#   For more information, see http://astroML.github.com\n",
    "#   To report a bug or issue, use the following forum:\n",
    "#    https://groups.google.com/forum/#!forum/astroml-general\n",
    "import numpy as np\n",
    "from matplotlib import pyplot as plt\n",
    "\n",
    "\n",
    "#------------------------------------------------------------\n",
    "# Define the Huber loss\n",
    "def Phi(t, c):\n",
    "    t = abs(t)\n",
    "    flag = (t > c)\n",
    "    return (~flag) * (0.5 * t ** 2) - (flag) * c * (0.5 * c - t)\n",
    "\n",
    "#------------------------------------------------------------\n",
    "# Plot for several values of c\n",
    "fig = plt.figure(figsize=(10, 3.75)) # set figure size\n",
    "ax = fig.add_subplot(111) # add 1 subplot\n",
    "\n",
    "x = np.linspace(-5, 5, 100) # create linear space from -5 to 5 with 100 steps\n",
    "\n",
    "for c in (1, 2, 10): # loop through values 1, 2, 10\n",
    "    y = Phi(x, c)\n",
    "    ax.plot(x, y, '-k') # plot x and y\n",
    "\n",
    "    if c > 10:\n",
    "        s = r'\\infty' # set s to infinity sign (string format)\n",
    "    else:\n",
    "        s = str(c) # set s to string of number c\n",
    "\n",
    "    ax.text(x[6], y[6], '$c=%s$' % s,\n",
    "            ha='center', va='center',\n",
    "            bbox=dict(boxstyle='round', ec='k', fc='w')) # add test to each line\n",
    "\n",
    "ax.plot(x, np.square(x),label=\"squared loss\") # plot the sqared loss (blue line)\n",
    "\n",
    "ax.set_xlabel(r'$y - \\hat{y}$') # set x labels\n",
    "ax.set_ylabel(r'loss $\\mathcal{L}(y,\\hat{y})$') # set y label\n",
    "ax.legend() # show legend in plot\n",
    "plt.show() # show the plot"
   ]
  },
  {
   "cell_type": "markdown",
   "metadata": {
    "deletable": false,
    "editable": false,
    "nbgrader": {
     "cell_type": "markdown",
     "checksum": "8475f86acdd36d2e8cfbe2476bde2ad9",
     "grade": false,
     "grade_id": "cell-87c2d62347509737",
     "locked": true,
     "schema_version": 3,
     "solution": false
    }
   },
   "source": [
    "<a id='drawplot'></a>\n",
    "<div class=\" alert alert-info\">\n",
    "<p><b>Demo.</b> Robustness of Linear Regression with Huber Loss.</p>\n",
    "\n",
    "<p>The code snippet below fits a linear model for greyscales $y$ based on a single feature $x_{1}$ using the Huber loss. We also intentionally perturb the first data point by setting $y_{1}^{(1)}$ to an unreasonable value. Using this corrupted data set, we fit a linear model (under Huber loss) again and compare the so-obtained linear predictor to the linear predictor obtained from the \"clean\" data set.</p>\n",
    "</div>"
   ]
  },
  {
   "cell_type": "code",
   "execution_count": 114,
   "metadata": {
    "deletable": false,
    "editable": false,
    "nbgrader": {
     "cell_type": "code",
     "checksum": "0efe6d5203ebfe6bb370a8041e14d332",
     "grade": false,
     "grade_id": "cell-53fc0a75788a46a8",
     "locked": true,
     "schema_version": 3,
     "solution": false
    }
   },
   "outputs": [
    {
     "data": {
      "image/png": "[encoded data removed]",
      "text/plain": [
       "<Figure size 1080x288 with 2 Axes>"
      ]
     },
     "metadata": {
      "needs_background": "light"
     },
     "output_type": "display_data"
    },
    {
     "name": "stdout",
     "output_type": "stream",
     "text": [
      "optimal weight w_opt by fitting on clean data :  [0.24507095]\n",
      "optimal weight w_opt by fitting on perturbed data :  [0.25296366]\n"
     ]
    }
   ],
   "source": [
    "from sklearn import linear_model\n",
    "from sklearn.linear_model import HuberRegressor\n",
    "\n",
    "X,y = GetFeaturesLabels(10,1)   # read in 10 data points with single feature x_1 and label y \n",
    "\n",
    "# regressor gives a warning if this isn't done,, changes y.shape from (10, 1) to (10,)\n",
    "y = y.ravel()\n",
    "\n",
    "### fit a linear model (using Huber loss) to the clean data \n",
    "\n",
    "reg = HuberRegressor().fit(X, y)\n",
    "y_pred = reg.predict(X)\n",
    "\n",
    "# now we intentionaly perturb the label of the first data point \n",
    "\n",
    "y_perturbed = np.copy(y)  \n",
    "y_perturbed[0] = 1000; \n",
    "\n",
    "### fit a linear model (using Huber loss) to the perturbed data \n",
    "\n",
    "#reg1 = linear_model.LinearRegression(fit_intercept=False)\n",
    "reg1 = HuberRegressor().fit(X, y_perturbed)\n",
    "y_pred_perturbed = reg1.predict(X)\n",
    "\n",
    "\n",
    "fig, axes = plt.subplots(1, 2, figsize=(15, 4))\n",
    "axes[0].scatter(X, y, label='data')\n",
    "axes[0].plot(X, y_pred, color='green', label='Fitted model')\n",
    "\n",
    "\n",
    "# now add individual line for each error point\n",
    "axes[0].plot((X[0], X[0]), (y[0], y_pred[0]), color='red', label='errors') # add label to legend\n",
    "for i in range(len(X)-1):\n",
    "    lineXdata = (X[i+1], X[i+1]) # same X\n",
    "    lineYdata = (y[i+1], y_pred[i+1]) # different Y\n",
    "    axes[0].plot(lineXdata, lineYdata, color='red')\n",
    "\n",
    "\n",
    "axes[0].set_title('fitted model using clean data')\n",
    "axes[0].set_xlabel('feature x_1')\n",
    "axes[0].set_ylabel('greyscale y')\n",
    "axes[0].legend()\n",
    "\n",
    "axes[1].scatter(X, y_perturbed, label='data')\n",
    "axes[1].plot(X, y_pred_perturbed, color='green', label='Fitted model')\n",
    "\n",
    "\n",
    "# now add individual line for each error point\n",
    "axes[1].plot((X[0], X[0]), (y_perturbed[0], y_pred_perturbed[0]), color='red', label='errors') # add label to legend\n",
    "for i in range(len(X)-1):\n",
    "    lineXdata = (X[i+1], X[i+1]) # same X\n",
    "    lineYdata = (y_perturbed[i+1], y_pred_perturbed[i+1]) # different Y\n",
    "    axes[1].plot(lineXdata, lineYdata, color='red')\n",
    "\n",
    "\n",
    "axes[1].set_title('fitted model using perturbed data')\n",
    "axes[1].set_xlabel('feature x_1')\n",
    "axes[1].set_ylabel('greyscale y')\n",
    "axes[1].legend()\n",
    "\n",
    "plt.show()\n",
    "plt.close('all') # clean up after using pyplot\n",
    "\n",
    "print(\"optimal weight w_opt by fitting on clean data : \", reg.coef_)\n",
    "print(\"optimal weight w_opt by fitting on perturbed data : \", reg1.coef_)"
   ]
  },
  {
   "cell_type": "markdown",
   "metadata": {
    "deletable": false,
    "editable": false,
    "nbgrader": {
     "cell_type": "markdown",
     "checksum": "2b659f57c8fac78ca0ffbf52b7a3be7f",
     "grade": false,
     "grade_id": "cell-c0992d0c8d156b25",
     "locked": true,
     "schema_version": 3,
     "solution": false
    }
   },
   "source": [
    "<a id='varying_features'></a>\n",
    "<div class=\" alert alert-info\">\n",
    "    <p><b>Demo</b> Varying Number of Features with Huber Loss. </p>\n",
    "    \n",
    "In principle you can choose how many of the available features $x_{1}, x_{2},\\ldots,$ \n",
    "of a pixel you want to use to in order to predict the greyscale $y$. Let us now explore \n",
    "the effect of using a varying number $r$ of features on the resulting error and \n",
    "computational complexity (runtime). <br />\n",
    "\n",
    "In particular, for each $r=1,2,\\ldots,10$, the code snippet below fits a linear model under \n",
    "Huber loss to the pixels dataset (using $m=10$ data points) by using only the \n",
    "first $r$ features $x_{1},...,x_{r}$ of a pixel. \n",
    "<br />    \n",
    "- The first $r$ features and labels (greyscale) for the pixels can be obtained using `GetFeaturesLabels(m,r)`.<br />\n",
    "- For each value of $r$, the resulting training error (using the Python function `mean_squared_error()`) of the fitted linear model is calculated. <br />\n",
    "- The results are stored in the vector `linreg_error`. \n",
    "\n",
    "</div>"
   ]
  },
  {
   "cell_type": "code",
   "execution_count": 115,
   "metadata": {
    "deletable": false,
    "editable": false,
    "nbgrader": {
     "cell_type": "code",
     "checksum": "c8de11416570d939a3de1c1bdf40e6b4",
     "grade": false,
     "grade_id": "cell-e77bf5b72cac619d",
     "locked": true,
     "schema_version": 3,
     "solution": false
    }
   },
   "outputs": [
    {
     "name": "stderr",
     "output_type": "stream",
     "text": [
      "/opt/conda/lib/python3.7/site-packages/sklearn/linear_model/_huber.py:296: ConvergenceWarning: lbfgs failed to converge (status=1):\n",
      "STOP: TOTAL NO. of ITERATIONS REACHED LIMIT.\n",
      "\n",
      "Increase the number of iterations (max_iter) or scale the data as shown in:\n",
      "    https://scikit-learn.org/stable/modules/preprocessing.html\n",
      "  self.n_iter_ = _check_optimize_result(\"lbfgs\", opt_res, self.max_iter)\n",
      "/opt/conda/lib/python3.7/site-packages/sklearn/linear_model/_huber.py:296: ConvergenceWarning: lbfgs failed to converge (status=1):\n",
      "STOP: TOTAL NO. of ITERATIONS REACHED LIMIT.\n",
      "\n",
      "Increase the number of iterations (max_iter) or scale the data as shown in:\n",
      "    https://scikit-learn.org/stable/modules/preprocessing.html\n",
      "  self.n_iter_ = _check_optimize_result(\"lbfgs\", opt_res, self.max_iter)\n",
      "/opt/conda/lib/python3.7/site-packages/sklearn/linear_model/_huber.py:296: ConvergenceWarning: lbfgs failed to converge (status=1):\n",
      "STOP: TOTAL NO. of ITERATIONS REACHED LIMIT.\n",
      "\n",
      "Increase the number of iterations (max_iter) or scale the data as shown in:\n",
      "    https://scikit-learn.org/stable/modules/preprocessing.html\n",
      "  self.n_iter_ = _check_optimize_result(\"lbfgs\", opt_res, self.max_iter)\n",
      "/opt/conda/lib/python3.7/site-packages/sklearn/linear_model/_huber.py:296: ConvergenceWarning: lbfgs failed to converge (status=1):\n",
      "STOP: TOTAL NO. of ITERATIONS REACHED LIMIT.\n",
      "\n",
      "Increase the number of iterations (max_iter) or scale the data as shown in:\n",
      "    https://scikit-learn.org/stable/modules/preprocessing.html\n",
      "  self.n_iter_ = _check_optimize_result(\"lbfgs\", opt_res, self.max_iter)\n",
      "/opt/conda/lib/python3.7/site-packages/sklearn/linear_model/_huber.py:296: ConvergenceWarning: lbfgs failed to converge (status=1):\n",
      "STOP: TOTAL NO. of ITERATIONS REACHED LIMIT.\n",
      "\n",
      "Increase the number of iterations (max_iter) or scale the data as shown in:\n",
      "    https://scikit-learn.org/stable/modules/preprocessing.html\n",
      "  self.n_iter_ = _check_optimize_result(\"lbfgs\", opt_res, self.max_iter)\n"
     ]
    },
    {
     "data": {
      "image/png": "[encoded data removed]",
      "text/plain": [
       "<Figure size 720x270 with 1 Axes>"
      ]
     },
     "metadata": {
      "needs_background": "light"
     },
     "output_type": "display_data"
    }
   ],
   "source": [
    "# we use 10 data points (each data point representing an uncorrupted pixel)\n",
    "m = 10   \n",
    "\n",
    "# maximum number of features used to characterize a data point\n",
    "max_r = 10                        \n",
    "\n",
    "# read in m data points each described by max_r features\n",
    "X,y = GetFeaturesLabels(m, max_r)  \n",
    "                   \n",
    "# vector for storing the training error of LinearRegresion.fit() for each r\n",
    "linreg_error = np.zeros(max_r)    \n",
    "\n",
    "for r in range(max_r):\n",
    "    # create an object \"reg_hub\" which represents a linear hypothesis space \n",
    "    # consisting of predictor maps h(x) = w^{T} x  (without an intercept term or \"offset\")\n",
    "    # this object uses the Huber loss function for finding the best weight vector \n",
    "    reg_hub = HuberRegressor(fit_intercept=False) \n",
    "    # find the best weight vector w by minimizing the average Huber loss \n",
    "    # the resulting optimal weight vector is stored in \"reg_hub.coef_\" \n",
    "    reg_hub = reg_hub.fit(X[:,:(r+1)], y.ravel())\n",
    "    # apply the optimal linear predictor (using optimal weight vector) to the \n",
    "    # data points whose feature vectors are stored in numpy array \"X\"\n",
    "    pred = reg_hub.predict(X[:,:(r+1)])\n",
    "    # computer the resulting average squared loss incurred by the optimal predictor \n",
    "    linreg_error[r] = mean_squared_error(y, pred)\n",
    "\n",
    "fig = plt.figure(figsize=(10, 3.75))\n",
    "ax = fig.add_subplot(111)\n",
    "\n",
    "# create a numpy array \"r_vals\" containing the values 1,2...,max_r\n",
    "r_vals = np.linspace(1, max_r, max_r, endpoint=True)\n",
    "\n",
    "# add curve depicting the resulting training error for each choice of number r of features \n",
    "ax.plot(r_vals, linreg_error, label='MSE', color='red')\n",
    "\n",
    "# add captions to plot \n",
    "ax.set_xlabel('features')\n",
    "ax.set_ylabel('empirical error')\n",
    "ax.set_title('training error vs number of features')\n",
    "ax.legend()\n",
    "plt.tight_layout()\n",
    "plt.show()\n",
    "\n",
    "# Dont mind the warnings regarding \"STOP: TOTAL NO. of ITERATIONS REACHED LIMIT.\""
   ]
  },
  {
   "cell_type": "markdown",
   "metadata": {
    "deletable": false,
    "editable": false,
    "nbgrader": {
     "cell_type": "markdown",
     "checksum": "c626d3e0d598e31e94f81bcf50493deb",
     "grade": false,
     "grade_id": "cell-599ce61a3486169c",
     "locked": true,
     "schema_version": 3,
     "solution": false,
     "task": false
    }
   },
   "source": [
    "<a id='varying_features'></a>\n",
    "<div class=\" alert alert-warning\">\n",
    "<p><b>Student Task</b> Choosing the optimal epsilon for HuberRegressor</p>\n",
    "\n",
    "The Huber loss depends on a tuning-parameter $c$ which should be adapted to the application at hand. For example, if we want to use the value $c=1.1$ we need to use the Python command \n",
    "\n",
    "`reg = HuberRegressor(epsilon = 1.1).fit(X,y)` \n",
    "\n",
    "to determine the optimal predictor which minimizes the Huber loss with $c=1.1$. \n",
    "\n",
    "One simple approach to implement this is to try out different values for $c$. For each value of $c$, we compute a linear predictor by minimizing the average Huber loss for that choice of $c$. We then compare the resulting training errors achieved by these (typically different) predictors that are obtained for different choices of $c$. \n",
    "\n",
    "- read in $m=10$ data points, each data point characterized by $n=1$ feature and a numeric label \n",
    "- store the features of the data points in the numpy array `X`of shape (10,1) \n",
    "- store the labels of the data points in the numpy array `y`of shape (10,1)  \n",
    "- create anoter numpy array `y_perturbed` which is identifcal with `y` except for the first entry which is set to `y_perturbed[0]=10000`\n",
    "- determine the weight vectors $\\mathbf{w}^{(c)}$ for a linear predictor by minimizing the average Huber loss for the choices $c=1,1.2,1.4,1.6,1.8,2$ on the perturbed data points (using features `X` and labels `y_perturbed`)\n",
    "- for each of the resulting linear predictors $h(\\mathbf{x}) = \\big( \\mathbf{w}^{(c)} \\big)^{T} \\mathbf{x}$, determine the average squared error loss incurred on the $m-1$ labeled data points (use the function `mean_squared_error()` for this) whose features are stored in `X[1:9]` and labels in `y[1:9]`. Thus, we evaluate the predictor on the $m-1$ unperturbed data points. \n",
    "- store the resulting average squared error loss in the numpy array `err_vs_c` of shape (6,1)\n",
    "\n",
    "</div>"
   ]
  },
  {
   "cell_type": "code",
   "execution_count": 119,
   "metadata": {
    "deletable": false,
    "nbgrader": {
     "cell_type": "code",
     "checksum": "94aad5b9fe0ffe0747896be4aee2adbe",
     "grade": false,
     "grade_id": "cell-3f265672d8e972fa",
     "locked": false,
     "schema_version": 3,
     "solution": true,
     "task": false
    }
   },
   "outputs": [
    {
     "name": "stdout",
     "output_type": "stream",
     "text": [
      "Errors:\n",
      "[106.87246195 108.04993075 119.39205833 119.96745314 119.62837986\n",
      " 119.12732288]\n"
     ]
    }
   ],
   "source": [
    "from sklearn import linear_model\n",
    "from sklearn.linear_model import HuberRegressor\n",
    "\n",
    "\n",
    "# read in 10 data points with single feature x_1 and label y \n",
    "X,y = GetFeaturesLabels(10,1)  \n",
    "\n",
    "# create a numpy array with the values for the paramter c \n",
    "c_vals = [1,1.2,1.4,1.6,1.8,2]\n",
    "\n",
    "# create a numpy array \"y_perturbed\" by copying the values of the \n",
    "# numpy array \"y\" which contains the label values of the data points \n",
    "y_perturbed = np.copy(y)  \n",
    "\n",
    "# now we intentionaly perturb the label of the first data point \n",
    "# by setting it to 10000\n",
    "y_perturbed[0] = 10000; \n",
    "\n",
    "### STUDENT TASK ###\n",
    "# YOUR CODE HERE\n",
    "# raise NotImplementedError()\n",
    "\n",
    "err_vs_c = np.zeros(len(c_vals))\n",
    "for c in range(len(c_vals)):\n",
    "    reg_hub = HuberRegressor(epsilon = c_vals[c]).fit(X,y_perturbed.ravel())\n",
    "    pred = reg_hub.predict(X[1:9])\n",
    "    err_vs_c[c] = mean_squared_error(y_perturbed[1:9], pred)\n",
    "\n",
    "# Print errors\n",
    "print('Errors:')\n",
    "print(err_vs_c)"
   ]
  },
  {
   "cell_type": "code",
   "execution_count": 120,
   "metadata": {
    "deletable": false,
    "editable": false,
    "nbgrader": {
     "cell_type": "code",
     "checksum": "46f682233a043c3546ce06b18838facd",
     "grade": true,
     "grade_id": "cell-6a7a343d9aa2cba5",
     "locked": true,
     "points": 3,
     "schema_version": 3,
     "solution": false,
     "task": false
    }
   },
   "outputs": [
    {
     "name": "stdout",
     "output_type": "stream",
     "text": [
      "Sanity check tests passed!\n"
     ]
    }
   ],
   "source": [
    "# this cell contains visible tests (sanity checks) and \n",
    "# hidden tests which are used for grading student solutions \n",
    "\n",
    "assert err_vs_c.shape[0] == 6, \"'linreg_error' has wrong dimensions.\"\n",
    "assert err_vs_c[2] > err_vs_c[1], \"training errors not correct\"\n",
    "assert err_vs_c[1] > err_vs_c[0], \"training errors not correct\"\n",
    "\n",
    "print('Sanity check tests passed!')\n"
   ]
  },
  {
   "cell_type": "markdown",
   "metadata": {
    "deletable": false,
    "editable": false,
    "nbgrader": {
     "cell_type": "markdown",
     "checksum": "82516b3393fb1738b5a2e67864944bf6",
     "grade": false,
     "grade_id": "cell-a62472a3ab8f38a5",
     "locked": true,
     "schema_version": 3,
     "solution": false
    }
   },
   "source": [
    "## Take Home Quiz\n",
    "\n",
    "Try to answer the following questions by setting the `answer_R2_Q??` \n",
    "variable for each question to the number of the correct answer. E.g. if you think that the second answer in the first quiz question is the right one, then set `answer_R2_Q1=2`. "
   ]
  },
  {
   "cell_type": "markdown",
   "metadata": {
    "deletable": false,
    "editable": false,
    "nbgrader": {
     "cell_type": "markdown",
     "checksum": "178dda76fd5e031b60ad402950295d91",
     "grade": false,
     "grade_id": "cell-e611768d73f86fa7",
     "locked": true,
     "schema_version": 3,
     "solution": false
    }
   },
   "source": [
    "<a id='QuestionR2_1'></a>\n",
    "<div class=\" alert alert-warning\">\n",
    "    <p><b>Student Task.</b> Question R2.1. </p>\n",
    "\n",
    " <p>When is a machine learning problem called a regression problem ?</p>\n",
    "\n",
    "<ol>\n",
    "  <li> When the quantity of interest (the label) is a numeric quantity. </li>\n",
    "  <li> When the data is stored in a spreadsheet.</li>\n",
    "  <li> When the method uses audio data.  </li>\n",
    "  <li> When the quantity of interest takes on only a finite number of different values (e.g. \"-1\",\"0\" or \"4\").\n",
    "</ol> \n",
    "\n",
    "</div>"
   ]
  },
  {
   "cell_type": "code",
   "execution_count": 121,
   "metadata": {
    "deletable": false,
    "nbgrader": {
     "cell_type": "code",
     "checksum": "432b0e4e14c5872cbf513a0666917573",
     "grade": false,
     "grade_id": "cell-9d35a0850eda0752",
     "locked": false,
     "schema_version": 3,
     "solution": true
    }
   },
   "outputs": [],
   "source": [
    "# answer_Q1\n",
    "\n",
    "answer_R2_Q1  = 1\n",
    "# YOUR CODE HERE\n",
    "# raise NotImplementedError()"
   ]
  },
  {
   "cell_type": "code",
   "execution_count": 122,
   "metadata": {
    "deletable": false,
    "editable": false,
    "nbgrader": {
     "cell_type": "code",
     "checksum": "9c77347da957ce02c96118b7d754f758",
     "grade": true,
     "grade_id": "cell-43ad391c8e33387a",
     "locked": true,
     "points": 1,
     "schema_version": 3,
     "solution": false
    }
   },
   "outputs": [
    {
     "name": "stdout",
     "output_type": "stream",
     "text": [
      "Sanity check tests passed!\n"
     ]
    }
   ],
   "source": [
    "# this cell constains visible tests (sanity checks) and \n",
    "# hidden tests which are used for grading student solutions \n",
    "\n",
    "assert answer_R2_Q1 in [1, 2, 3, 4], '\"answer_R2_Q1\" Value should be an integer between 1 and 4.'\n",
    "print('Sanity check tests passed!')\n"
   ]
  },
  {
   "cell_type": "markdown",
   "metadata": {
    "deletable": false,
    "editable": false,
    "nbgrader": {
     "cell_type": "markdown",
     "checksum": "a73aca467d6ed65b8b86d51c7be4a864",
     "grade": false,
     "grade_id": "cell-f98434b12dacd59b",
     "locked": true,
     "schema_version": 3,
     "solution": false
    }
   },
   "source": [
    "<a id='QuestionR2_2'></a>\n",
    "<div class=\" alert alert-warning\">\n",
    "    <p><b>Student Task.</b> Question R2.2.</p>\n",
    "    <p> What is the effect of using more features for learning (fitting) a linear predictor via minimizing the average squared error on training data?</p>\n",
    "    <ol>\n",
    "      <li> The training error typically increases. </li>\n",
    "      <li> The training error typcially decreases. </li>\n",
    "      <li> The training error does not depend on the number of features. </li>\n",
    "    </ol> \n",
    "</div>"
   ]
  },
  {
   "cell_type": "code",
   "execution_count": 123,
   "metadata": {
    "deletable": false,
    "nbgrader": {
     "cell_type": "code",
     "checksum": "3ee88371058548003809a8ff87edd9c3",
     "grade": false,
     "grade_id": "cell-c6d81be6a121716c",
     "locked": false,
     "schema_version": 3,
     "solution": true
    }
   },
   "outputs": [],
   "source": [
    "# answer_Q2\n",
    "\n",
    "answer_R2_Q2  = 2\n",
    "# YOUR CODE HERE\n",
    "# raise NotImplementedError()"
   ]
  },
  {
   "cell_type": "code",
   "execution_count": 124,
   "metadata": {
    "deletable": false,
    "editable": false,
    "nbgrader": {
     "cell_type": "code",
     "checksum": "c63bb51fdbc9ba5fc37733593d426d18",
     "grade": true,
     "grade_id": "cell-a0269c3b1e477408",
     "locked": true,
     "points": 1,
     "schema_version": 3,
     "solution": false
    }
   },
   "outputs": [
    {
     "name": "stdout",
     "output_type": "stream",
     "text": [
      "Sanity check tests passed!\n"
     ]
    }
   ],
   "source": [
    "# test cell, please don't remove.\n",
    "\n",
    "assert answer_R2_Q2 in [1, 2, 3], '\"answer_R2_Q2\" Value should be an integer between 1 and 3.'\n",
    "print('Sanity check tests passed!')\n"
   ]
  },
  {
   "cell_type": "markdown",
   "metadata": {
    "deletable": false,
    "editable": false,
    "nbgrader": {
     "cell_type": "markdown",
     "checksum": "98f6da8bae00c7a31f3bf3927e0762bb",
     "grade": false,
     "grade_id": "cell-02646ec2841586e2",
     "locked": true,
     "schema_version": 3,
     "solution": false
    }
   },
   "source": [
    "<a id='QuestionR2_3'></a>\n",
    "<div class=\" alert alert-warning\">\n",
    "    <p><b>Student Task.</b> Question R2.3.</p>\n",
    "    <p> What is the effect of adding more data points to the training data when using linear predictors and the squared error loss?</p>\n",
    "    <ol>\n",
    "      <li> The training error always decreases when adding more data points to the training set.  </li>\n",
    "      <li> The training error might increase when adding more data points to the training set.  </li>\n",
    "    </ol> \n",
    "</div>"
   ]
  },
  {
   "cell_type": "code",
   "execution_count": 125,
   "metadata": {
    "deletable": false,
    "nbgrader": {
     "cell_type": "code",
     "checksum": "967d9e4505267ec75d4ef267f58f8b4e",
     "grade": false,
     "grade_id": "cell-1f5ce374962033e7",
     "locked": false,
     "schema_version": 3,
     "solution": true
    }
   },
   "outputs": [],
   "source": [
    "# answer_Q3\n",
    "\n",
    "answer_R2_Q3  = 2\n",
    "# YOUR CODE HERE\n",
    "# raise NotImplementedError()"
   ]
  },
  {
   "cell_type": "code",
   "execution_count": 126,
   "metadata": {
    "deletable": false,
    "editable": false,
    "nbgrader": {
     "cell_type": "code",
     "checksum": "83a3043ae1e3ae2bea848a0c07fd7baa",
     "grade": true,
     "grade_id": "cell-1bf8dff2ceba3115",
     "locked": true,
     "points": 1,
     "schema_version": 3,
     "solution": false
    }
   },
   "outputs": [
    {
     "name": "stdout",
     "output_type": "stream",
     "text": [
      "Sanity check tests passed!\n"
     ]
    }
   ],
   "source": [
    "# this cell constains visible tests (sanity checks) and \n",
    "# hidden tests which are used for grading student solutions \n",
    "\n",
    "assert answer_R2_Q3 in [1, 2], '\"answer_R2_Q3\" Value should be an integer between 1 and 2.'\n",
    "print('Sanity check tests passed!')\n"
   ]
  },
  {
   "cell_type": "markdown",
   "metadata": {
    "deletable": false,
    "editable": false,
    "nbgrader": {
     "cell_type": "markdown",
     "checksum": "55ba452c91c107de5bfc86728da3f941",
     "grade": false,
     "grade_id": "cell-5c750f08c418572f",
     "locked": true,
     "schema_version": 3,
     "solution": false
    }
   },
   "source": [
    "<a id='QuestionR2_4'></a>\n",
    "<div class=\" alert alert-warning\">\n",
    "    <p><b>Student Task.</b> Question R2.4.</p>\n",
    "    <p> How does the resulting regression method differ when using either squared error or Huber loss?</p>\n",
    "    <ol>\n",
    "      <li> Using Huber loss makes the resulting method more robust against outliers, i.e., the learned predictor does not vary too much if a few training data points are perturbed.  </li>\n",
    "      <li> Using squared error loss makes the resulting method more robust against outliers.  </li>\n",
    "    </ol> \n",
    "</div>"
   ]
  },
  {
   "cell_type": "code",
   "execution_count": 127,
   "metadata": {
    "deletable": false,
    "nbgrader": {
     "cell_type": "code",
     "checksum": "3eb65454ab2eb8a60de77c213a88bde5",
     "grade": false,
     "grade_id": "cell-f1395b9db09b190d",
     "locked": false,
     "schema_version": 3,
     "solution": true
    }
   },
   "outputs": [],
   "source": [
    "# answer_Q4\n",
    "\n",
    "answer_R2_Q4  = 1\n",
    "# YOUR CODE HERE\n",
    "# raise NotImplementedError()"
   ]
  },
  {
   "cell_type": "code",
   "execution_count": 128,
   "metadata": {
    "deletable": false,
    "editable": false,
    "nbgrader": {
     "cell_type": "code",
     "checksum": "47deb7827e08d8801a60cc4ad79e9341",
     "grade": true,
     "grade_id": "cell-f3f22d98a84a2e74",
     "locked": true,
     "points": 1,
     "schema_version": 3,
     "solution": false
    }
   },
   "outputs": [
    {
     "name": "stdout",
     "output_type": "stream",
     "text": [
      "Sanity check tests passed!\n"
     ]
    }
   ],
   "source": [
    "# this cell constains visible tests (sanity checks) and \n",
    "# hidden tests which are used for grading student solutions \n",
    "\n",
    "assert answer_R2_Q4 in [1, 2, 3], '\"answer_R2_Q4\" Value should be an integer between 1 and 3.'\n",
    "print('Sanity check tests passed!')\n"
   ]
  },
  {
   "cell_type": "code",
   "execution_count": null,
   "metadata": {},
   "outputs": [],
   "source": []
  }
 ],
 "metadata": {
  "kernelspec": {
   "display_name": "Python 3",
   "language": "python",
   "name": "python3"
  },
  "language_info": {
   "codemirror_mode": {
    "name": "ipython",
    "version": 3
   },
   "file_extension": ".py",
   "mimetype": "text/x-python",
   "name": "python",
   "nbconvert_exporter": "python",
   "pygments_lexer": "ipython3",
   "version": "3.7.5"
  },
  "varInspector": {
   "cols": {
    "lenName": 16,
    "lenType": 16,
    "lenVar": 40
   },
   "kernels_config": {
    "python": {
     "delete_cmd_postfix": "",
     "delete_cmd_prefix": "del ",
     "library": "var_list.py",
     "varRefreshCmd": "print(var_dic_list())"
    },
    "r": {
     "delete_cmd_postfix": ") ",
     "delete_cmd_prefix": "rm(",
     "library": "var_list.r",
     "varRefreshCmd": "cat(var_dic_list()) "
    }
   },
   "types_to_exclude": [
    "module",
    "function",
    "builtin_function_or_method",
    "instance",
    "_Feature"
   ],
   "window_display": false
  }
 },
 "nbformat": 4,
 "nbformat_minor": 2
}
