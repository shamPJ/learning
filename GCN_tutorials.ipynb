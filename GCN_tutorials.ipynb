{
 "cells": [
  {
   "cell_type": "markdown",
   "id": "93e2d865",
   "metadata": {},
   "source": [
    "# Part I\n",
    "\n",
    "https://towardsdatascience.com/how-to-do-deep-learning-on-graphs-with-graph-convolutional-networks-7d2250723780\n",
    "\n",
    "<img src='https://miro.medium.com/max/864/1*jTW7doI_cqC_p9XQrmuu9A.png'>"
   ]
  },
  {
   "cell_type": "code",
   "execution_count": 1,
   "id": "cbc30820",
   "metadata": {},
   "outputs": [],
   "source": [
    "import numpy as np"
   ]
  },
  {
   "cell_type": "code",
   "execution_count": 4,
   "id": "0dae9cb2",
   "metadata": {},
   "outputs": [
    {
     "name": "stdout",
     "output_type": "stream",
     "text": [
      "[[0. 1. 0. 0.]\n",
      " [0. 0. 1. 1.]\n",
      " [0. 1. 0. 0.]\n",
      " [1. 0. 1. 0.]]\n"
     ]
    }
   ],
   "source": [
    "# adjacency matrix\n",
    "A = np.matrix([\n",
    "    [0, 1, 0, 0],\n",
    "    [0, 0, 1, 1], \n",
    "    [0, 1, 0, 0],\n",
    "    [1, 0, 1, 0]],\n",
    "    dtype=float)\n",
    "\n",
    "print(A)"
   ]
  },
  {
   "cell_type": "code",
   "execution_count": 5,
   "id": "94a3b61c",
   "metadata": {},
   "outputs": [
    {
     "name": "stdout",
     "output_type": "stream",
     "text": [
      "[[ 0.  0.]\n",
      " [ 1. -1.]\n",
      " [ 2. -2.]\n",
      " [ 3. -3.]]\n"
     ]
    }
   ],
   "source": [
    "# feature matrix\n",
    "X = np.matrix([\n",
    "            [i, -i]\n",
    "            for i in range(A.shape[0])\n",
    "        ], dtype=float)\n",
    "\n",
    "print(X)"
   ]
  },
  {
   "cell_type": "code",
   "execution_count": 6,
   "id": "056f17f4",
   "metadata": {},
   "outputs": [
    {
     "data": {
      "text/plain": [
       "matrix([[ 1., -1.],\n",
       "        [ 5., -5.],\n",
       "        [ 1., -1.],\n",
       "        [ 2., -2.]])"
      ]
     },
     "execution_count": 6,
     "metadata": {},
     "output_type": "execute_result"
    }
   ],
   "source": [
    "# propogation rule f(H^i,A)= sigma(AH^iW^i) \n",
    "# for i=1, sigma - id.function and AH^iW^i = AXW^i = AX\n",
    "A@X"
   ]
  },
  {
   "cell_type": "code",
   "execution_count": 7,
   "id": "eb189336",
   "metadata": {},
   "outputs": [
    {
     "name": "stdout",
     "output_type": "stream",
     "text": [
      "[[1. 1. 0. 0.]\n",
      " [0. 1. 1. 1.]\n",
      " [0. 1. 1. 0.]\n",
      " [1. 0. 1. 1.]]\n"
     ]
    },
    {
     "data": {
      "text/plain": [
       "matrix([[ 1., -1.],\n",
       "        [ 6., -6.],\n",
       "        [ 3., -3.],\n",
       "        [ 5., -5.]])"
      ]
     },
     "execution_count": 7,
     "metadata": {},
     "output_type": "execute_result"
    }
   ],
   "source": [
    "# add self-loops to add its own features\n",
    "I = np.matrix(np.eye(A.shape[0]))\n",
    "\n",
    "A_hat = A+I\n",
    "print(A_hat)\n",
    "\n",
    "A_hat@X"
   ]
  },
  {
   "cell_type": "markdown",
   "id": "6a3662ce",
   "metadata": {},
   "source": [
    "Normalize values (as some nodes may have big range of degree):"
   ]
  },
  {
   "cell_type": "code",
   "execution_count": 27,
   "id": "978bc16e",
   "metadata": {},
   "outputs": [
    {
     "name": "stdout",
     "output_type": "stream",
     "text": [
      "[[1. 0. 0. 0.]\n",
      " [0. 2. 0. 0.]\n",
      " [0. 0. 1. 0.]\n",
      " [0. 0. 0. 2.]]\n"
     ]
    }
   ],
   "source": [
    "# Degree matrix \n",
    "D = np.array(np.sum(A, axis=1)).reshape(1,-1)[0]\n",
    "D = np.matrix(np.diag(D))\n",
    "print(D)"
   ]
  },
  {
   "cell_type": "code",
   "execution_count": 28,
   "id": "0132186f",
   "metadata": {},
   "outputs": [
    {
     "data": {
      "text/plain": [
       "matrix([[1. , 0. , 0. , 0. ],\n",
       "        [0. , 0.5, 0. , 0. ],\n",
       "        [0. , 0. , 1. , 0. ],\n",
       "        [0. , 0. , 0. , 0.5]])"
      ]
     },
     "execution_count": 28,
     "metadata": {},
     "output_type": "execute_result"
    }
   ],
   "source": [
    "from numpy.linalg import inv\n",
    "\n",
    "Dinv = inv(D)\n",
    "Dinv"
   ]
  },
  {
   "cell_type": "code",
   "execution_count": 30,
   "id": "586600f8",
   "metadata": {},
   "outputs": [
    {
     "name": "stdout",
     "output_type": "stream",
     "text": [
      "[[0. 1. 0. 0.]\n",
      " [0. 0. 1. 1.]\n",
      " [0. 1. 0. 0.]\n",
      " [1. 0. 1. 0.]]\n"
     ]
    },
    {
     "data": {
      "text/plain": [
       "matrix([[0. , 1. , 0. , 0. ],\n",
       "        [0. , 0. , 0.5, 0.5],\n",
       "        [0. , 1. , 0. , 0. ],\n",
       "        [0.5, 0. , 0.5, 0. ]])"
      ]
     },
     "execution_count": 30,
     "metadata": {},
     "output_type": "execute_result"
    }
   ],
   "source": [
    "print(A)\n",
    "Dinv@A # inverse of degree matrix => norm. adj.matrix"
   ]
  },
  {
   "cell_type": "code",
   "execution_count": 31,
   "id": "6636c42b",
   "metadata": {},
   "outputs": [
    {
     "data": {
      "text/plain": [
       "matrix([[ 1. , -1. ],\n",
       "        [ 2.5, -2.5],\n",
       "        [ 1. , -1. ],\n",
       "        [ 1. , -1. ]])"
      ]
     },
     "execution_count": 31,
     "metadata": {},
     "output_type": "execute_result"
    }
   ],
   "source": [
    "Dinv@A@X # node representaion is mean of the features of neighboring nodes. "
   ]
  },
  {
   "cell_type": "markdown",
   "id": "d1cf9f1a",
   "metadata": {},
   "source": [
    "Adding together: self-loops, normalization, weights:"
   ]
  },
  {
   "cell_type": "code",
   "execution_count": 33,
   "id": "b6ab022d",
   "metadata": {},
   "outputs": [
    {
     "data": {
      "text/plain": [
       "matrix([[ 1, -1],\n",
       "        [-1,  1]])"
      ]
     },
     "execution_count": 33,
     "metadata": {},
     "output_type": "execute_result"
    }
   ],
   "source": [
    "W = np.matrix([\n",
    "             [1, -1],\n",
    "             [-1, 1]])\n",
    "W"
   ]
  },
  {
   "cell_type": "code",
   "execution_count": 35,
   "id": "560193ec",
   "metadata": {},
   "outputs": [
    {
     "data": {
      "text/plain": [
       "matrix([[ 2., -2.],\n",
       "        [ 6., -6.],\n",
       "        [ 6., -6.],\n",
       "        [ 5., -5.]])"
      ]
     },
     "execution_count": 35,
     "metadata": {},
     "output_type": "execute_result"
    }
   ],
   "source": [
    "Dinv@A_hat@X@W      # (NxN)@(NxN)@(NxD)@(DxD^next layer) => (NxD^next layer)"
   ]
  },
  {
   "cell_type": "code",
   "execution_count": 38,
   "id": "50732746",
   "metadata": {},
   "outputs": [
    {
     "data": {
      "text/plain": [
       "matrix([[ 2., -0.],\n",
       "        [ 6., -0.],\n",
       "        [ 6., -0.],\n",
       "        [ 5., -0.]])"
      ]
     },
     "execution_count": 38,
     "metadata": {},
     "output_type": "execute_result"
    }
   ],
   "source": [
    "# add activation function\n",
    "\n",
    "def relu(x):\n",
    "    return np.multiply(x,(x > 0))\n",
    "\n",
    "relu(Dinv@A_hat@X@W)"
   ]
  },
  {
   "cell_type": "markdown",
   "id": "3f7921eb",
   "metadata": {},
   "source": [
    "### Zachary’s Karate Club\n",
    "\n",
    "\"Zachary’s karate club is a commonly used social network where nodes represent members of a karate club and the edges their mutual relations. While Zachary was studying the karate club, a conflict arose between the administrator and the instructor which resulted in the club splitting in two. The figure below shows the graph representation of the network and nodes are labeled according to which part of the club. The administrator and instructor are marked with ‘A’ and ‘I’, respectively.\"\n",
    "\n",
    "<img src='https://miro.medium.com/max/1400/1*d62WDGX4uf6bwlu0KyfRsQ.png'>"
   ]
  },
  {
   "cell_type": "code",
   "execution_count": 39,
   "id": "c1f19cc6",
   "metadata": {},
   "outputs": [
    {
     "data": {
      "text/plain": [
       "<networkx.classes.graph.Graph at 0x7ffd35f29e10>"
      ]
     },
     "execution_count": 39,
     "metadata": {},
     "output_type": "execute_result"
    }
   ],
   "source": [
    "from networkx import karate_club_graph, to_numpy_matrix\n",
    "\n",
    "zkc = karate_club_graph()\n",
    "zkc"
   ]
  },
  {
   "cell_type": "code",
   "execution_count": 40,
   "id": "09abc140",
   "metadata": {},
   "outputs": [
    {
     "data": {
      "text/plain": [
       "[0,\n",
       " 1,\n",
       " 2,\n",
       " 3,\n",
       " 4,\n",
       " 5,\n",
       " 6,\n",
       " 7,\n",
       " 8,\n",
       " 9,\n",
       " 10,\n",
       " 11,\n",
       " 12,\n",
       " 13,\n",
       " 14,\n",
       " 15,\n",
       " 16,\n",
       " 17,\n",
       " 18,\n",
       " 19,\n",
       " 20,\n",
       " 21,\n",
       " 22,\n",
       " 23,\n",
       " 24,\n",
       " 25,\n",
       " 26,\n",
       " 27,\n",
       " 28,\n",
       " 29,\n",
       " 30,\n",
       " 31,\n",
       " 32,\n",
       " 33]"
      ]
     },
     "execution_count": 40,
     "metadata": {},
     "output_type": "execute_result"
    }
   ],
   "source": [
    "order = sorted(list(zkc.nodes()))\n",
    "order"
   ]
  },
  {
   "cell_type": "code",
   "execution_count": 41,
   "id": "3868b556",
   "metadata": {},
   "outputs": [
    {
     "data": {
      "text/plain": [
       "matrix([[0., 1., 1., ..., 1., 0., 0.],\n",
       "        [1., 0., 1., ..., 0., 0., 0.],\n",
       "        [1., 1., 0., ..., 0., 1., 0.],\n",
       "        ...,\n",
       "        [1., 0., 0., ..., 0., 1., 1.],\n",
       "        [0., 0., 1., ..., 1., 0., 1.],\n",
       "        [0., 0., 0., ..., 1., 1., 0.]])"
      ]
     },
     "execution_count": 41,
     "metadata": {},
     "output_type": "execute_result"
    }
   ],
   "source": [
    "A = to_numpy_matrix(zkc, nodelist=order)\n",
    "A"
   ]
  },
  {
   "cell_type": "code",
   "execution_count": 58,
   "id": "d50d4500",
   "metadata": {},
   "outputs": [],
   "source": [
    "I = np.eye(zkc.number_of_nodes())\n",
    "\n",
    "A_hat = A + I\n",
    "D_hat = np.array(np.sum(A_hat, axis=0))[0] # note, here is out-degree matrix, not in-degree\n",
    "D_hat = np.matrix(np.diag(D_hat))"
   ]
  },
  {
   "cell_type": "code",
   "execution_count": 59,
   "id": "6a6c531b",
   "metadata": {},
   "outputs": [],
   "source": [
    "W_1 = np.random.normal(\n",
    "    loc=0, scale=1, size=(zkc.number_of_nodes(), 4))\n",
    "W_2 = np.random.normal(\n",
    "    loc=0, size=(W_1.shape[1], 2))"
   ]
  },
  {
   "cell_type": "code",
   "execution_count": 60,
   "id": "decfbece",
   "metadata": {},
   "outputs": [],
   "source": [
    "def gcn_layer(A_hat, D_hat, X, W):\n",
    "    return relu(D_hat**-1 * A_hat * X * W)\n",
    "\n",
    "H_1 = gcn_layer(A_hat, D_hat, I, W_1)\n",
    "H_2 = gcn_layer(A_hat, D_hat, H_1, W_2)\n",
    "\n",
    "output = H_2"
   ]
  },
  {
   "cell_type": "code",
   "execution_count": 61,
   "id": "774dc5c2",
   "metadata": {},
   "outputs": [],
   "source": [
    "feature_representations = {\n",
    "    node: np.array(output)[node] \n",
    "    for node in zkc.nodes()}"
   ]
  },
  {
   "cell_type": "code",
   "execution_count": 62,
   "id": "51b17008",
   "metadata": {},
   "outputs": [
    {
     "data": {
      "text/plain": [
       "{0: array([0.3363744 , 0.13120232]),\n",
       " 1: array([0.32322609, 0.21735803]),\n",
       " 2: array([0.56985985, 0.27042005]),\n",
       " 3: array([0.36902645, 0.20968604]),\n",
       " 4: array([0.38724082, 0.15257762]),\n",
       " 5: array([0.43235668, 0.2197117 ]),\n",
       " 6: array([0.49061891, 0.27848969]),\n",
       " 7: array([0.44781402, 0.25406484]),\n",
       " 8: array([0.44844317, 0.28837838]),\n",
       " 9: array([0.44847017, 0.01753388]),\n",
       " 10: array([ 0.38754692, -0.        ]),\n",
       " 11: array([0.08407728, 0.04840448]),\n",
       " 12: array([0.28268332, 0.16069395]),\n",
       " 13: array([0.32817606, 0.17872758]),\n",
       " 14: array([0.58309646, 0.17716275]),\n",
       " 15: array([0.75717682, 0.04440681]),\n",
       " 16: array([0.57084757, 0.403799  ]),\n",
       " 17: array([0.19815092, 0.12826455]),\n",
       " 18: array([0.8351394 , 0.38631432]),\n",
       " 19: array([0.21902997, 0.12972412]),\n",
       " 20: array([0.84647384, 0.12792596]),\n",
       " 21: array([0.16839017, 0.09592803]),\n",
       " 22: array([ 1.1401368, -0.       ]),\n",
       " 23: array([0.66944471, 0.39836637]),\n",
       " 24: array([0.75604776, 0.15112591]),\n",
       " 25: array([0.82058227, 0.12297248]),\n",
       " 26: array([0.39967678, 0.42552888]),\n",
       " 27: array([0.81653368, 0.24581714]),\n",
       " 28: array([0.48081049, 0.19097531]),\n",
       " 29: array([0.59555663, 0.41617389]),\n",
       " 30: array([0.49691377, 0.32239291]),\n",
       " 31: array([0.57440998, 0.17585081]),\n",
       " 32: array([0.98436735, 0.15357214]),\n",
       " 33: array([0.86689212, 0.18487422])}"
      ]
     },
     "execution_count": 62,
     "metadata": {},
     "output_type": "execute_result"
    }
   ],
   "source": [
    "feature_representations"
   ]
  },
  {
   "cell_type": "code",
   "execution_count": 70,
   "id": "c497d8a1",
   "metadata": {},
   "outputs": [
    {
     "data": {
      "text/plain": [
       "array([0.3363744 , 0.32322609, 0.56985985, 0.36902645, 0.38724082,\n",
       "       0.43235668, 0.49061891, 0.44781402, 0.44844317, 0.44847017,\n",
       "       0.38754692, 0.08407728, 0.28268332, 0.32817606, 0.58309646,\n",
       "       0.75717682, 0.57084757, 0.19815092, 0.8351394 , 0.21902997,\n",
       "       0.84647384, 0.16839017, 1.1401368 , 0.66944471, 0.75604776,\n",
       "       0.82058227, 0.39967678, 0.81653368, 0.48081049, 0.59555663,\n",
       "       0.49691377, 0.57440998, 0.98436735, 0.86689212])"
      ]
     },
     "execution_count": 70,
     "metadata": {},
     "output_type": "execute_result"
    }
   ],
   "source": [
    "np.array(output[:,0]).ravel()"
   ]
  },
  {
   "cell_type": "code",
   "execution_count": 71,
   "id": "337242bf",
   "metadata": {},
   "outputs": [
    {
     "data": {
      "text/plain": [
       "<matplotlib.collections.PathCollection at 0x7ffd37bdde50>"
      ]
     },
     "execution_count": 71,
     "metadata": {},
     "output_type": "execute_result"
    },
    {
     "data": {
      "image/png": "[encoded data removed]",
      "text/plain": [
       "<Figure size 432x288 with 1 Axes>"
      ]
     },
     "metadata": {
      "needs_background": "light"
     },
     "output_type": "display_data"
    }
   ],
   "source": [
    "import matplotlib.pyplot as plt\n",
    "\n",
    "plt.scatter(np.array(output[:,0]).ravel(), np.array(output[:,1]).ravel())"
   ]
  },
  {
   "cell_type": "markdown",
   "id": "e119af8e",
   "metadata": {},
   "source": [
    "# Part II"
   ]
  }
 ],
 "metadata": {
  "kernelspec": {
   "display_name": "Python 3",
   "language": "python",
   "name": "python3"
  },
  "language_info": {
   "codemirror_mode": {
    "name": "ipython",
    "version": 3
   },
   "file_extension": ".py",
   "mimetype": "text/x-python",
   "name": "python",
   "nbconvert_exporter": "python",
   "pygments_lexer": "ipython3",
   "version": "3.7.10"
  },
  "toc": {
   "base_numbering": 1,
   "nav_menu": {},
   "number_sections": true,
   "sideBar": true,
   "skip_h1_title": false,
   "title_cell": "Table of Contents",
   "title_sidebar": "Contents",
   "toc_cell": false,
   "toc_position": {},
   "toc_section_display": true,
   "toc_window_display": false
  },
  "varInspector": {
   "cols": {
    "lenName": 16,
    "lenType": 16,
    "lenVar": 40
   },
   "kernels_config": {
    "python": {
     "delete_cmd_postfix": "",
     "delete_cmd_prefix": "del ",
     "library": "var_list.py",
     "varRefreshCmd": "print(var_dic_list())"
    },
    "r": {
     "delete_cmd_postfix": ") ",
     "delete_cmd_prefix": "rm(",
     "library": "var_list.r",
     "varRefreshCmd": "cat(var_dic_list()) "
    }
   },
   "types_to_exclude": [
    "module",
    "function",
    "builtin_function_or_method",
    "instance",
    "_Feature"
   ],
   "window_display": false
  }
 },
 "nbformat": 4,
 "nbformat_minor": 5
}
