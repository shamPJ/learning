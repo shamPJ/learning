{
 "cells": [
  {
   "cell_type": "markdown",
   "id": "24e6ce03",
   "metadata": {},
   "source": [
    "# Part I\n",
    "\n",
    "https://towardsdatascience.com/how-to-do-deep-learning-on-graphs-with-graph-convolutional-networks-7d2250723780\n",
    "\n",
    "<img src='https://miro.medium.com/max/864/1*jTW7doI_cqC_p9XQrmuu9A.png'>"
   ]
  },
  {
   "cell_type": "code",
   "execution_count": 346,
   "id": "1df09972",
   "metadata": {},
   "outputs": [],
   "source": [
    "import numpy as np"
   ]
  },
  {
   "cell_type": "code",
   "execution_count": 347,
   "id": "699b1afe",
   "metadata": {},
   "outputs": [
    {
     "name": "stdout",
     "output_type": "stream",
     "text": [
      "[[0. 1. 0. 0.]\n",
      " [0. 0. 1. 1.]\n",
      " [0. 1. 0. 0.]\n",
      " [1. 0. 1. 0.]]\n"
     ]
    }
   ],
   "source": [
    "# adjacency matrix\n",
    "A = np.matrix([\n",
    "    [0, 1, 0, 0],\n",
    "    [0, 0, 1, 1], \n",
    "    [0, 1, 0, 0],\n",
    "    [1, 0, 1, 0]],\n",
    "    dtype=float)\n",
    "\n",
    "print(A)"
   ]
  },
  {
   "cell_type": "code",
   "execution_count": 348,
   "id": "f994930a",
   "metadata": {},
   "outputs": [
    {
     "name": "stdout",
     "output_type": "stream",
     "text": [
      "[[ 0.  0.]\n",
      " [ 1. -1.]\n",
      " [ 2. -2.]\n",
      " [ 3. -3.]]\n"
     ]
    }
   ],
   "source": [
    "# feature matrix\n",
    "X = np.matrix([\n",
    "            [i, -i]\n",
    "            for i in range(A.shape[0])\n",
    "        ], dtype=float)\n",
    "\n",
    "print(X)"
   ]
  },
  {
   "cell_type": "code",
   "execution_count": 349,
   "id": "654330c2",
   "metadata": {},
   "outputs": [
    {
     "data": {
      "text/plain": [
       "matrix([[ 1., -1.],\n",
       "        [ 5., -5.],\n",
       "        [ 1., -1.],\n",
       "        [ 2., -2.]])"
      ]
     },
     "execution_count": 349,
     "metadata": {},
     "output_type": "execute_result"
    }
   ],
   "source": [
    "# propogation rule f(H^i,A)= sigma(AH^iW^i) \n",
    "# for i=1, sigma - id.function and AH^iW^i = AXW^i = AX\n",
    "A@X"
   ]
  },
  {
   "cell_type": "code",
   "execution_count": 350,
   "id": "d8285cf0",
   "metadata": {},
   "outputs": [
    {
     "name": "stdout",
     "output_type": "stream",
     "text": [
      "[[1. 1. 0. 0.]\n",
      " [0. 1. 1. 1.]\n",
      " [0. 1. 1. 0.]\n",
      " [1. 0. 1. 1.]]\n"
     ]
    },
    {
     "data": {
      "text/plain": [
       "matrix([[ 1., -1.],\n",
       "        [ 6., -6.],\n",
       "        [ 3., -3.],\n",
       "        [ 5., -5.]])"
      ]
     },
     "execution_count": 350,
     "metadata": {},
     "output_type": "execute_result"
    }
   ],
   "source": [
    "# add self-loops to add its own features\n",
    "I = np.matrix(np.eye(A.shape[0]))\n",
    "\n",
    "A_hat = A+I\n",
    "print(A_hat)\n",
    "\n",
    "A_hat@X"
   ]
  },
  {
   "cell_type": "markdown",
   "id": "cf720fcf",
   "metadata": {},
   "source": [
    "Normalize values (as some nodes may have big range of degree):"
   ]
  },
  {
   "cell_type": "code",
   "execution_count": 351,
   "id": "da167841",
   "metadata": {},
   "outputs": [
    {
     "name": "stdout",
     "output_type": "stream",
     "text": [
      "[[1. 0. 0. 0.]\n",
      " [0. 2. 0. 0.]\n",
      " [0. 0. 1. 0.]\n",
      " [0. 0. 0. 2.]]\n"
     ]
    }
   ],
   "source": [
    "# Degree matrix \n",
    "D = np.array(np.sum(A, axis=1)).reshape(1,-1)[0]\n",
    "D = np.matrix(np.diag(D))\n",
    "print(D)"
   ]
  },
  {
   "cell_type": "code",
   "execution_count": 352,
   "id": "5fe5ee98",
   "metadata": {},
   "outputs": [
    {
     "data": {
      "text/plain": [
       "matrix([[1. , 0. , 0. , 0. ],\n",
       "        [0. , 0.5, 0. , 0. ],\n",
       "        [0. , 0. , 1. , 0. ],\n",
       "        [0. , 0. , 0. , 0.5]])"
      ]
     },
     "execution_count": 352,
     "metadata": {},
     "output_type": "execute_result"
    }
   ],
   "source": [
    "from numpy.linalg import inv\n",
    "\n",
    "Dinv = inv(D)\n",
    "Dinv"
   ]
  },
  {
   "cell_type": "code",
   "execution_count": 353,
   "id": "30eec0f4",
   "metadata": {},
   "outputs": [
    {
     "name": "stdout",
     "output_type": "stream",
     "text": [
      "[[0. 1. 0. 0.]\n",
      " [0. 0. 1. 1.]\n",
      " [0. 1. 0. 0.]\n",
      " [1. 0. 1. 0.]]\n"
     ]
    },
    {
     "data": {
      "text/plain": [
       "matrix([[0. , 1. , 0. , 0. ],\n",
       "        [0. , 0. , 0.5, 0.5],\n",
       "        [0. , 1. , 0. , 0. ],\n",
       "        [0.5, 0. , 0.5, 0. ]])"
      ]
     },
     "execution_count": 353,
     "metadata": {},
     "output_type": "execute_result"
    }
   ],
   "source": [
    "print(A)\n",
    "Dinv@A # inverse of degree matrix => norm. adj.matrix"
   ]
  },
  {
   "cell_type": "code",
   "execution_count": 354,
   "id": "e071651c",
   "metadata": {},
   "outputs": [
    {
     "data": {
      "text/plain": [
       "matrix([[ 1. , -1. ],\n",
       "        [ 2.5, -2.5],\n",
       "        [ 1. , -1. ],\n",
       "        [ 1. , -1. ]])"
      ]
     },
     "execution_count": 354,
     "metadata": {},
     "output_type": "execute_result"
    }
   ],
   "source": [
    "Dinv@A@X # node representaion is mean of the features of neighboring nodes. "
   ]
  },
  {
   "cell_type": "markdown",
   "id": "56df525b",
   "metadata": {},
   "source": [
    "Adding together: self-loops, normalization, weights:"
   ]
  },
  {
   "cell_type": "code",
   "execution_count": 355,
   "id": "f2cd06a7",
   "metadata": {},
   "outputs": [
    {
     "data": {
      "text/plain": [
       "matrix([[ 1, -1],\n",
       "        [-1,  1]])"
      ]
     },
     "execution_count": 355,
     "metadata": {},
     "output_type": "execute_result"
    }
   ],
   "source": [
    "W = np.matrix([\n",
    "             [1, -1],\n",
    "             [-1, 1]])\n",
    "W"
   ]
  },
  {
   "cell_type": "code",
   "execution_count": 356,
   "id": "96cdde37",
   "metadata": {},
   "outputs": [
    {
     "data": {
      "text/plain": [
       "matrix([[ 2., -2.],\n",
       "        [ 6., -6.],\n",
       "        [ 6., -6.],\n",
       "        [ 5., -5.]])"
      ]
     },
     "execution_count": 356,
     "metadata": {},
     "output_type": "execute_result"
    }
   ],
   "source": [
    "Dinv@A_hat@X@W      # (NxN)@(NxN)@(NxD)@(DxD^next layer) => (NxD^next layer)"
   ]
  },
  {
   "cell_type": "code",
   "execution_count": 357,
   "id": "2112aefb",
   "metadata": {},
   "outputs": [
    {
     "data": {
      "text/plain": [
       "matrix([[ 2., -0.],\n",
       "        [ 6., -0.],\n",
       "        [ 6., -0.],\n",
       "        [ 5., -0.]])"
      ]
     },
     "execution_count": 357,
     "metadata": {},
     "output_type": "execute_result"
    }
   ],
   "source": [
    "# add activation function\n",
    "\n",
    "def relu(x):\n",
    "    return np.multiply(x,(x > 0))\n",
    "\n",
    "relu(Dinv@A_hat@X@W)"
   ]
  },
  {
   "cell_type": "markdown",
   "id": "4102d961",
   "metadata": {},
   "source": [
    "### Zachary’s Karate Club\n",
    "\n",
    "\"Zachary’s karate club is a commonly used social network where nodes represent members of a karate club and the edges their mutual relations. While Zachary was studying the karate club, a conflict arose between the administrator and the instructor which resulted in the club splitting in two. The figure below shows the graph representation of the network and nodes are labeled according to which part of the club. The administrator and instructor are marked with ‘A’ and ‘I’, respectively.\"\n",
    "\n",
    "<img src='https://miro.medium.com/max/1400/1*d62WDGX4uf6bwlu0KyfRsQ.png'>"
   ]
  },
  {
   "cell_type": "code",
   "execution_count": 358,
   "id": "11a2128b",
   "metadata": {},
   "outputs": [
    {
     "data": {
      "text/plain": [
       "<networkx.classes.graph.Graph at 0x7ffd39e38950>"
      ]
     },
     "execution_count": 358,
     "metadata": {},
     "output_type": "execute_result"
    }
   ],
   "source": [
    "import networkx as nx\n",
    "from networkx import karate_club_graph, to_numpy_matrix\n",
    "\n",
    "zkc = karate_club_graph()\n",
    "zkc"
   ]
  },
  {
   "cell_type": "code",
   "execution_count": 359,
   "id": "9a02ab61",
   "metadata": {},
   "outputs": [
    {
     "name": "stdout",
     "output_type": "stream",
     "text": [
      "{10: 'Mr. Hi', 11: 'Mr. Hi', 12: 'Mr. Hi', 13: 'Mr. Hi', 14: 'Officer', 15: 'Officer'}\n"
     ]
    }
   ],
   "source": [
    "club_labels = nx.get_node_attributes(zkc,'club')\n",
    "print({key:club_labels[key] for key in range(10,16)})"
   ]
  },
  {
   "cell_type": "code",
   "execution_count": 360,
   "id": "5bdf6f13",
   "metadata": {},
   "outputs": [
    {
     "data": {
      "text/plain": [
       "[0,\n",
       " 1,\n",
       " 2,\n",
       " 3,\n",
       " 4,\n",
       " 5,\n",
       " 6,\n",
       " 7,\n",
       " 8,\n",
       " 9,\n",
       " 10,\n",
       " 11,\n",
       " 12,\n",
       " 13,\n",
       " 14,\n",
       " 15,\n",
       " 16,\n",
       " 17,\n",
       " 18,\n",
       " 19,\n",
       " 20,\n",
       " 21,\n",
       " 22,\n",
       " 23,\n",
       " 24,\n",
       " 25,\n",
       " 26,\n",
       " 27,\n",
       " 28,\n",
       " 29,\n",
       " 30,\n",
       " 31,\n",
       " 32,\n",
       " 33]"
      ]
     },
     "execution_count": 360,
     "metadata": {},
     "output_type": "execute_result"
    }
   ],
   "source": [
    "order = sorted(list(zkc.nodes()))\n",
    "order"
   ]
  },
  {
   "cell_type": "code",
   "execution_count": 361,
   "id": "5c7e1b03",
   "metadata": {},
   "outputs": [
    {
     "data": {
      "text/plain": [
       "matrix([[0., 1., 1., ..., 1., 0., 0.],\n",
       "        [1., 0., 1., ..., 0., 0., 0.],\n",
       "        [1., 1., 0., ..., 0., 1., 0.],\n",
       "        ...,\n",
       "        [1., 0., 0., ..., 0., 1., 1.],\n",
       "        [0., 0., 1., ..., 1., 0., 1.],\n",
       "        [0., 0., 0., ..., 1., 1., 0.]])"
      ]
     },
     "execution_count": 361,
     "metadata": {},
     "output_type": "execute_result"
    }
   ],
   "source": [
    "A = to_numpy_matrix(zkc, nodelist=order)\n",
    "A"
   ]
  },
  {
   "cell_type": "code",
   "execution_count": 362,
   "id": "f577ee52",
   "metadata": {},
   "outputs": [],
   "source": [
    "I = np.eye(zkc.number_of_nodes())\n",
    "\n",
    "A_hat = A + I\n",
    "D_hat = np.array(np.sum(A_hat, axis=0))[0] # note, here is out-degree matrix, not in-degree\n",
    "D_hat = np.matrix(np.diag(D_hat))"
   ]
  },
  {
   "cell_type": "code",
   "execution_count": 363,
   "id": "0b98e4b7",
   "metadata": {},
   "outputs": [],
   "source": [
    "W_1 = np.random.normal(\n",
    "    loc=0, scale=1, size=(zkc.number_of_nodes(), 4))\n",
    "W_2 = np.random.normal(\n",
    "    loc=0, size=(W_1.shape[1], 2))"
   ]
  },
  {
   "cell_type": "code",
   "execution_count": 364,
   "id": "f346bb0f",
   "metadata": {},
   "outputs": [],
   "source": [
    "def gcn_layer(A_hat, D_hat, X, W):\n",
    "    return relu(D_hat**-1 * A_hat * X * W)\n",
    "\n",
    "H_1 = gcn_layer(A_hat, D_hat, I, W_1)\n",
    "H_2 = gcn_layer(A_hat, D_hat, H_1, W_2)\n",
    "\n",
    "output = H_2"
   ]
  },
  {
   "cell_type": "code",
   "execution_count": 365,
   "id": "97ceac2a",
   "metadata": {},
   "outputs": [],
   "source": [
    "feature_representations = {\n",
    "    node: np.array(output)[node] \n",
    "    for node in zkc.nodes()}"
   ]
  },
  {
   "cell_type": "code",
   "execution_count": 366,
   "id": "71db34bb",
   "metadata": {},
   "outputs": [
    {
     "data": {
      "text/plain": [
       "{0: array([ 0.40478629, -0.        ]),\n",
       " 1: array([ 0.31793084, -0.        ]),\n",
       " 2: array([ 0.19219361, -0.        ]),\n",
       " 3: array([ 0.19980491, -0.        ]),\n",
       " 4: array([0.48017262, 0.01812811]),\n",
       " 5: array([0.6666633 , 0.04718623]),\n",
       " 6: array([0.82290121, 0.06189116]),\n",
       " 7: array([ 0.2568386, -0.       ]),\n",
       " 8: array([ 0.21010379, -0.        ]),\n",
       " 9: array([ 0.14309698, -0.        ]),\n",
       " 10: array([0.47861358, 0.02016168]),\n",
       " 11: array([ 0.69459789, -0.        ]),\n",
       " 12: array([ 0.10481346, -0.        ]),\n",
       " 13: array([ 0.24373423, -0.        ]),\n",
       " 14: array([ 0.01759097, -0.        ]),\n",
       " 15: array([-0., -0.]),\n",
       " 16: array([1.00369025, 0.08932748]),\n",
       " 17: array([ 0.56496774, -0.        ]),\n",
       " 18: array([ 0.0312944, -0.       ]),\n",
       " 19: array([ 0.24570834, -0.        ]),\n",
       " 20: array([-0., -0.]),\n",
       " 21: array([0.5898707 , 0.02255401]),\n",
       " 22: array([0.29787432, 0.20137457]),\n",
       " 23: array([0.14980414, 0.00785724]),\n",
       " 24: array([0.2399606 , 0.02482441]),\n",
       " 25: array([0.23927034, 0.07859709]),\n",
       " 26: array([0.02445171, 0.0165303 ]),\n",
       " 27: array([ 0.16427067, -0.        ]),\n",
       " 28: array([0.20204606, 0.04075836]),\n",
       " 29: array([0.05636995, 0.01915154]),\n",
       " 30: array([ 0.24055169, -0.        ]),\n",
       " 31: array([0.22046683, 0.08210925]),\n",
       " 32: array([ 0.10390652, -0.        ]),\n",
       " 33: array([ 0.0816488, -0.       ])}"
      ]
     },
     "execution_count": 366,
     "metadata": {},
     "output_type": "execute_result"
    }
   ],
   "source": [
    "feature_representations"
   ]
  },
  {
   "cell_type": "code",
   "execution_count": 367,
   "id": "49feb8d5",
   "metadata": {},
   "outputs": [
    {
     "data": {
      "text/plain": [
       "([0, 1, 2, 3, 4, 5, 6, 7, 8, 10, 11, 12, 13, 16, 17, 19, 21],\n",
       " [9, 14, 15, 18, 20, 22, 23, 24, 25, 26, 27, 28, 29, 30, 31, 32, 33])"
      ]
     },
     "execution_count": 367,
     "metadata": {},
     "output_type": "execute_result"
    }
   ],
   "source": [
    "\n",
    "cluster1 = [idx for idx, element in enumerate(list(club_labels.values())) if element == 'Mr. Hi']\n",
    "cluster2 = [idx for idx, element in enumerate(list(club_labels.values())) if element == 'Officer']\n",
    "\n",
    "cluster1, cluster2"
   ]
  },
  {
   "cell_type": "code",
   "execution_count": 368,
   "id": "e6ce7ca2",
   "metadata": {},
   "outputs": [
    {
     "data": {
      "text/plain": [
       "<matplotlib.collections.PathCollection at 0x7ffd39efe310>"
      ]
     },
     "execution_count": 368,
     "metadata": {},
     "output_type": "execute_result"
    },
    {
     "data": {
      "image/png": "[encoded data removed]",
      "text/plain": [
       "<Figure size 432x288 with 1 Axes>"
      ]
     },
     "metadata": {
      "needs_background": "light"
     },
     "output_type": "display_data"
    }
   ],
   "source": [
    "import matplotlib.pyplot as plt\n",
    "\n",
    "plt.scatter(np.array(output[cluster1,0]).ravel(), np.array(output[cluster1,1]).ravel())\n",
    "plt.scatter(np.array(output[cluster2,0]).ravel(), np.array(output[cluster2,1]).ravel())"
   ]
  },
  {
   "cell_type": "markdown",
   "id": "69831d1a",
   "metadata": {},
   "source": [
    "# Part II - Spectral Rule & Semi Supervised Learning"
   ]
  },
  {
   "cell_type": "code",
   "execution_count": null,
   "id": "ae536303",
   "metadata": {},
   "outputs": [],
   "source": [
    "class SpectralRule(HybridBlock):\n",
    "    def __init__(self,\n",
    "                 A, in_units, out_units,\n",
    "                 activation, **kwargs):\n",
    "        super().__init__(**kwargs)\n",
    "        I = nd.eye(*A.shape)\n",
    "        A_hat = A.copy() + I\n",
    "        D = nd.sum(A_hat, axis=0)\n",
    "        D_inv = D**-0.5\n",
    "        D_inv = nd.diag(D_inv)\n",
    "        A_hat = D_inv * A_hat * D_inv\n",
    "        \n",
    "        self.in_units, self.out_units = in_units, out_units\n",
    "        \n",
    "        with self.name_scope():\n",
    "            self.A_hat = self.params.get_constant('A_hat', A_hat)\n",
    "            self.W = self.params.get(\n",
    "                'W', shape=(self.in_units, self.out_units)\n",
    "            )\n",
    "            if activation == 'ident':\n",
    "                self.activation = lambda X: X\n",
    "            else:\n",
    "                self.activation = Activation(activation)\n",
    "    def hybrid_forward(self, F, X, A_hat, W):\n",
    "        aggregate = F.dot(A_hat, X)\n",
    "        propagate = self.activation(\n",
    "            F.dot(aggregate, W))\n",
    "        return propagate"
   ]
  },
  {
   "cell_type": "code",
   "execution_count": null,
   "id": "d7973dfa",
   "metadata": {},
   "outputs": [],
   "source": []
  }
 ],
 "metadata": {
  "kernelspec": {
   "display_name": "Python 3",
   "language": "python",
   "name": "python3"
  },
  "language_info": {
   "codemirror_mode": {
    "name": "ipython",
    "version": 3
   },
   "file_extension": ".py",
   "mimetype": "text/x-python",
   "name": "python",
   "nbconvert_exporter": "python",
   "pygments_lexer": "ipython3",
   "version": "3.7.10"
  },
  "toc": {
   "base_numbering": 1,
   "nav_menu": {},
   "number_sections": true,
   "sideBar": true,
   "skip_h1_title": false,
   "title_cell": "Table of Contents",
   "title_sidebar": "Contents",
   "toc_cell": false,
   "toc_position": {},
   "toc_section_display": true,
   "toc_window_display": false
  },
  "varInspector": {
   "cols": {
    "lenName": 16,
    "lenType": 16,
    "lenVar": 40
   },
   "kernels_config": {
    "python": {
     "delete_cmd_postfix": "",
     "delete_cmd_prefix": "del ",
     "library": "var_list.py",
     "varRefreshCmd": "print(var_dic_list())"
    },
    "r": {
     "delete_cmd_postfix": ") ",
     "delete_cmd_prefix": "rm(",
     "library": "var_list.r",
     "varRefreshCmd": "cat(var_dic_list()) "
    }
   },
   "types_to_exclude": [
    "module",
    "function",
    "builtin_function_or_method",
    "instance",
    "_Feature"
   ],
   "window_display": false
  }
 },
 "nbformat": 4,
 "nbformat_minor": 5
}
